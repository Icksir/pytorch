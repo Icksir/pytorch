{
 "cells": [
  {
   "cell_type": "code",
   "execution_count": 1,
   "id": "aadb0bdf",
   "metadata": {
    "_cell_guid": "b1076dfc-b9ad-4769-8c92-a6c4dae69d19",
    "_uuid": "8f2839f25d086af736a60e9eeb907d3b93b6e0e5",
    "execution": {
     "iopub.execute_input": "2024-02-18T17:02:16.822034Z",
     "iopub.status.busy": "2024-02-18T17:02:16.821645Z",
     "iopub.status.idle": "2024-02-18T17:02:24.991256Z",
     "shell.execute_reply": "2024-02-18T17:02:24.990194Z"
    },
    "papermill": {
     "duration": 8.188722,
     "end_time": "2024-02-18T17:02:24.993326",
     "exception": false,
     "start_time": "2024-02-18T17:02:16.804604",
     "status": "completed"
    },
    "tags": []
   },
   "outputs": [
    {
     "name": "stdout",
     "output_type": "stream",
     "text": [
      "/kaggle/input/digit-recognizer/sample_submission.csv\n",
      "/kaggle/input/digit-recognizer/train.csv\n",
      "/kaggle/input/digit-recognizer/test.csv\n"
     ]
    }
   ],
   "source": [
    "# This Python 3 environment comes with many helpful analytics libraries installed\n",
    "# It is defined by the kaggle/python Docker image: https://github.com/kaggle/docker-python\n",
    "# For example, here's several helpful packages to load\n",
    "\n",
    "import numpy as np # linear algebra\n",
    "import pandas as pd # data processing, CSV file I/O (e.g. pd.read_csv)\n",
    "import torch\n",
    "import matplotlib.pyplot as plt\n",
    "import torchvision\n",
    "\n",
    "# Input data files are available in the read-only \"../input/\" directory\n",
    "# For example, running this (by clicking run or pressing Shift+Enter) will list all files under the input directory\n",
    "\n",
    "import os\n",
    "for dirname, _, filenames in os.walk('/kaggle/input'):\n",
    "    for filename in filenames:\n",
    "        print(os.path.join(dirname, filename))\n",
    "\n",
    "# You can write up to 20GB to the current directory (/kaggle/working/) that gets preserved as output when you create a version using \"Save & Run All\" \n",
    "# You can also write temporary files to /kaggle/temp/, but they won't be saved outside of the current session"
   ]
  },
  {
   "cell_type": "code",
   "execution_count": 2,
   "id": "b39ba7db",
   "metadata": {
    "execution": {
     "iopub.execute_input": "2024-02-18T17:02:25.023917Z",
     "iopub.status.busy": "2024-02-18T17:02:25.023236Z",
     "iopub.status.idle": "2024-02-18T17:02:40.698053Z",
     "shell.execute_reply": "2024-02-18T17:02:40.696929Z"
    },
    "papermill": {
     "duration": 15.692934,
     "end_time": "2024-02-18T17:02:40.700764",
     "exception": false,
     "start_time": "2024-02-18T17:02:25.007830",
     "status": "completed"
    },
    "tags": []
   },
   "outputs": [
    {
     "name": "stdout",
     "output_type": "stream",
     "text": [
      "Requirement already satisfied: torchmetrics in /opt/conda/lib/python3.10/site-packages (1.3.0.post0)\r\n",
      "Requirement already satisfied: numpy>1.20.0 in /opt/conda/lib/python3.10/site-packages (from torchmetrics) (1.24.4)\r\n",
      "Requirement already satisfied: packaging>17.1 in /opt/conda/lib/python3.10/site-packages (from torchmetrics) (21.3)\r\n",
      "Requirement already satisfied: torch>=1.10.0 in /opt/conda/lib/python3.10/site-packages (from torchmetrics) (2.1.2)\r\n",
      "Requirement already satisfied: lightning-utilities>=0.8.0 in /opt/conda/lib/python3.10/site-packages (from torchmetrics) (0.10.1)\r\n",
      "Requirement already satisfied: setuptools in /opt/conda/lib/python3.10/site-packages (from lightning-utilities>=0.8.0->torchmetrics) (69.0.3)\r\n",
      "Requirement already satisfied: typing-extensions in /opt/conda/lib/python3.10/site-packages (from lightning-utilities>=0.8.0->torchmetrics) (4.9.0)\r\n",
      "Requirement already satisfied: pyparsing!=3.0.5,>=2.0.2 in /opt/conda/lib/python3.10/site-packages (from packaging>17.1->torchmetrics) (3.1.1)\r\n",
      "Requirement already satisfied: filelock in /opt/conda/lib/python3.10/site-packages (from torch>=1.10.0->torchmetrics) (3.13.1)\r\n",
      "Requirement already satisfied: sympy in /opt/conda/lib/python3.10/site-packages (from torch>=1.10.0->torchmetrics) (1.12)\r\n",
      "Requirement already satisfied: networkx in /opt/conda/lib/python3.10/site-packages (from torch>=1.10.0->torchmetrics) (3.2.1)\r\n",
      "Requirement already satisfied: jinja2 in /opt/conda/lib/python3.10/site-packages (from torch>=1.10.0->torchmetrics) (3.1.2)\r\n",
      "Requirement already satisfied: fsspec in /opt/conda/lib/python3.10/site-packages (from torch>=1.10.0->torchmetrics) (2023.12.2)\r\n",
      "Requirement already satisfied: MarkupSafe>=2.0 in /opt/conda/lib/python3.10/site-packages (from jinja2->torch>=1.10.0->torchmetrics) (2.1.3)\r\n",
      "Requirement already satisfied: mpmath>=0.19 in /opt/conda/lib/python3.10/site-packages (from sympy->torch>=1.10.0->torchmetrics) (1.3.0)\r\n"
     ]
    }
   ],
   "source": [
    "!pip install torchmetrics\n",
    "from torchmetrics import Accuracy"
   ]
  },
  {
   "cell_type": "markdown",
   "id": "56520b73",
   "metadata": {
    "jupyter": {
     "source_hidden": true
    },
    "papermill": {
     "duration": 0.014933,
     "end_time": "2024-02-18T17:02:40.730811",
     "exception": false,
     "start_time": "2024-02-18T17:02:40.715878",
     "status": "completed"
    },
    "tags": []
   },
   "source": [
    "## 2. Read data"
   ]
  },
  {
   "cell_type": "code",
   "execution_count": 3,
   "id": "8174e86d",
   "metadata": {
    "execution": {
     "iopub.execute_input": "2024-02-18T17:02:40.760314Z",
     "iopub.status.busy": "2024-02-18T17:02:40.759987Z",
     "iopub.status.idle": "2024-02-18T17:02:46.165147Z",
     "shell.execute_reply": "2024-02-18T17:02:46.164315Z"
    },
    "papermill": {
     "duration": 5.422672,
     "end_time": "2024-02-18T17:02:46.167568",
     "exception": false,
     "start_time": "2024-02-18T17:02:40.744896",
     "status": "completed"
    },
    "tags": []
   },
   "outputs": [],
   "source": [
    "train_data = pd.read_csv(\"/kaggle/input/digit-recognizer/train.csv\")\n",
    "test_data = pd.read_csv(\"/kaggle/input/digit-recognizer/test.csv\")"
   ]
  },
  {
   "cell_type": "markdown",
   "id": "cec5994f",
   "metadata": {
    "papermill": {
     "duration": 0.014288,
     "end_time": "2024-02-18T17:02:46.197259",
     "exception": false,
     "start_time": "2024-02-18T17:02:46.182971",
     "status": "completed"
    },
    "tags": []
   },
   "source": [
    "### 2.1. Transform a row to tensor to visualize it"
   ]
  },
  {
   "cell_type": "code",
   "execution_count": 4,
   "id": "d5319f85",
   "metadata": {
    "execution": {
     "iopub.execute_input": "2024-02-18T17:02:46.226927Z",
     "iopub.status.busy": "2024-02-18T17:02:46.226602Z",
     "iopub.status.idle": "2024-02-18T17:02:46.396966Z",
     "shell.execute_reply": "2024-02-18T17:02:46.396127Z"
    },
    "papermill": {
     "duration": 0.18752,
     "end_time": "2024-02-18T17:02:46.398891",
     "exception": false,
     "start_time": "2024-02-18T17:02:46.211371",
     "status": "completed"
    },
    "tags": []
   },
   "outputs": [
    {
     "data": {
      "text/plain": [
       "<matplotlib.image.AxesImage at 0x7ff1a6328b80>"
      ]
     },
     "execution_count": 4,
     "metadata": {},
     "output_type": "execute_result"
    },
    {
     "data": {
      "image/png": "[encoded data removed]",
      "text/plain": [
       "<Figure size 500x300 with 1 Axes>"
      ]
     },
     "metadata": {},
     "output_type": "display_data"
    }
   ],
   "source": [
    "# First image\n",
    "first_img = torch.Tensor(train_data.iloc[0, 1:].to_numpy())\n",
    "\n",
    "# Visualize the first image\n",
    "plt.figure(figsize=(5,3))\n",
    "\n",
    "# Reshape image\n",
    "first_img = torch.reshape(first_img, (28, 28)).unsqueeze(dim=0)\n",
    "\n",
    "plt.axis(False)\n",
    "plt.title(train_data.iloc[0, 0])\n",
    "plt.imshow(first_img.permute(1,2,0), cmap='gray')"
   ]
  },
  {
   "cell_type": "markdown",
   "id": "d6581e5e",
   "metadata": {
    "papermill": {
     "duration": 0.01421,
     "end_time": "2024-02-18T17:02:46.427590",
     "exception": false,
     "start_time": "2024-02-18T17:02:46.413380",
     "status": "completed"
    },
    "tags": []
   },
   "source": [
    "### 2.2. Visualize many images"
   ]
  },
  {
   "cell_type": "code",
   "execution_count": 5,
   "id": "601f1d71",
   "metadata": {
    "execution": {
     "iopub.execute_input": "2024-02-18T17:02:46.458189Z",
     "iopub.status.busy": "2024-02-18T17:02:46.457864Z",
     "iopub.status.idle": "2024-02-18T17:02:46.463579Z",
     "shell.execute_reply": "2024-02-18T17:02:46.462763Z"
    },
    "papermill": {
     "duration": 0.023611,
     "end_time": "2024-02-18T17:02:46.465648",
     "exception": false,
     "start_time": "2024-02-18T17:02:46.442037",
     "status": "completed"
    },
    "tags": []
   },
   "outputs": [
    {
     "data": {
      "text/plain": [
       "42000"
      ]
     },
     "execution_count": 5,
     "metadata": {},
     "output_type": "execute_result"
    }
   ],
   "source": [
    "len(train_data)"
   ]
  },
  {
   "cell_type": "code",
   "execution_count": 6,
   "id": "c2c52e28",
   "metadata": {
    "execution": {
     "iopub.execute_input": "2024-02-18T17:02:46.496245Z",
     "iopub.status.busy": "2024-02-18T17:02:46.495996Z",
     "iopub.status.idle": "2024-02-18T17:02:47.139620Z",
     "shell.execute_reply": "2024-02-18T17:02:47.138678Z"
    },
    "papermill": {
     "duration": 0.661285,
     "end_time": "2024-02-18T17:02:47.141894",
     "exception": false,
     "start_time": "2024-02-18T17:02:46.480609",
     "status": "completed"
    },
    "tags": []
   },
   "outputs": [
    {
     "data": {
      "image/png": "[encoded data removed]",
      "text/plain": [
       "<Figure size 1000x700 with 9 Axes>"
      ]
     },
     "metadata": {},
     "output_type": "display_data"
    }
   ],
   "source": [
    "torch.manual_seed(42)\n",
    "\n",
    "random_idx = torch.randint(0, len(train_data), (9,))\n",
    "n_rows, n_columns = 3, 3\n",
    "idx = 1\n",
    "\n",
    "plt.figure(figsize=(10,7))\n",
    "for i in random_idx:\n",
    "    \n",
    "    pixels = train_data.iloc[int(i), 1:].to_numpy()\n",
    "    img = torch.Tensor(pixels).to(torch.float)\n",
    "    label = train_data.iloc[int(i), 0]\n",
    "    \n",
    "    # Reshape image\n",
    "    img = torch.reshape(img, (28, 28)).unsqueeze(dim=0)\n",
    "\n",
    "    plt.subplot(n_rows, n_columns, idx)\n",
    "    plt.imshow(img.permute(1,2,0), cmap='gray')\n",
    "    plt.axis(False)\n",
    "    plt.title(label)\n",
    "    plt.show\n",
    "    \n",
    "    idx += 1"
   ]
  },
  {
   "cell_type": "markdown",
   "id": "6a50a59f",
   "metadata": {
    "papermill": {
     "duration": 0.01568,
     "end_time": "2024-02-18T17:02:47.173976",
     "exception": false,
     "start_time": "2024-02-18T17:02:47.158296",
     "status": "completed"
    },
    "tags": []
   },
   "source": [
    "### 2.3. Visualize test data"
   ]
  },
  {
   "cell_type": "code",
   "execution_count": 7,
   "id": "4fa67568",
   "metadata": {
    "execution": {
     "iopub.execute_input": "2024-02-18T17:02:47.206012Z",
     "iopub.status.busy": "2024-02-18T17:02:47.205660Z",
     "iopub.status.idle": "2024-02-18T17:02:47.235675Z",
     "shell.execute_reply": "2024-02-18T17:02:47.234726Z"
    },
    "papermill": {
     "duration": 0.048499,
     "end_time": "2024-02-18T17:02:47.237733",
     "exception": false,
     "start_time": "2024-02-18T17:02:47.189234",
     "status": "completed"
    },
    "tags": []
   },
   "outputs": [
    {
     "data": {
      "text/html": [
       "<div>\n",
       "<style scoped>\n",
       "    .dataframe tbody tr th:only-of-type {\n",
       "        vertical-align: middle;\n",
       "    }\n",
       "\n",
       "    .dataframe tbody tr th {\n",
       "        vertical-align: top;\n",
       "    }\n",
       "\n",
       "    .dataframe thead th {\n",
       "        text-align: right;\n",
       "    }\n",
       "</style>\n",
       "<table border=\"1\" class=\"dataframe\">\n",
       "  <thead>\n",
       "    <tr style=\"text-align: right;\">\n",
       "      <th></th>\n",
       "      <th>pixel0</th>\n",
       "      <th>pixel1</th>\n",
       "      <th>pixel2</th>\n",
       "      <th>pixel3</th>\n",
       "      <th>pixel4</th>\n",
       "      <th>pixel5</th>\n",
       "      <th>pixel6</th>\n",
       "      <th>pixel7</th>\n",
       "      <th>pixel8</th>\n",
       "      <th>pixel9</th>\n",
       "      <th>...</th>\n",
       "      <th>pixel774</th>\n",
       "      <th>pixel775</th>\n",
       "      <th>pixel776</th>\n",
       "      <th>pixel777</th>\n",
       "      <th>pixel778</th>\n",
       "      <th>pixel779</th>\n",
       "      <th>pixel780</th>\n",
       "      <th>pixel781</th>\n",
       "      <th>pixel782</th>\n",
       "      <th>pixel783</th>\n",
       "    </tr>\n",
       "  </thead>\n",
       "  <tbody>\n",
       "    <tr>\n",
       "      <th>0</th>\n",
       "      <td>0</td>\n",
       "      <td>0</td>\n",
       "      <td>0</td>\n",
       "      <td>0</td>\n",
       "      <td>0</td>\n",
       "      <td>0</td>\n",
       "      <td>0</td>\n",
       "      <td>0</td>\n",
       "      <td>0</td>\n",
       "      <td>0</td>\n",
       "      <td>...</td>\n",
       "      <td>0</td>\n",
       "      <td>0</td>\n",
       "      <td>0</td>\n",
       "      <td>0</td>\n",
       "      <td>0</td>\n",
       "      <td>0</td>\n",
       "      <td>0</td>\n",
       "      <td>0</td>\n",
       "      <td>0</td>\n",
       "      <td>0</td>\n",
       "    </tr>\n",
       "    <tr>\n",
       "      <th>1</th>\n",
       "      <td>0</td>\n",
       "      <td>0</td>\n",
       "      <td>0</td>\n",
       "      <td>0</td>\n",
       "      <td>0</td>\n",
       "      <td>0</td>\n",
       "      <td>0</td>\n",
       "      <td>0</td>\n",
       "      <td>0</td>\n",
       "      <td>0</td>\n",
       "      <td>...</td>\n",
       "      <td>0</td>\n",
       "      <td>0</td>\n",
       "      <td>0</td>\n",
       "      <td>0</td>\n",
       "      <td>0</td>\n",
       "      <td>0</td>\n",
       "      <td>0</td>\n",
       "      <td>0</td>\n",
       "      <td>0</td>\n",
       "      <td>0</td>\n",
       "    </tr>\n",
       "    <tr>\n",
       "      <th>2</th>\n",
       "      <td>0</td>\n",
       "      <td>0</td>\n",
       "      <td>0</td>\n",
       "      <td>0</td>\n",
       "      <td>0</td>\n",
       "      <td>0</td>\n",
       "      <td>0</td>\n",
       "      <td>0</td>\n",
       "      <td>0</td>\n",
       "      <td>0</td>\n",
       "      <td>...</td>\n",
       "      <td>0</td>\n",
       "      <td>0</td>\n",
       "      <td>0</td>\n",
       "      <td>0</td>\n",
       "      <td>0</td>\n",
       "      <td>0</td>\n",
       "      <td>0</td>\n",
       "      <td>0</td>\n",
       "      <td>0</td>\n",
       "      <td>0</td>\n",
       "    </tr>\n",
       "    <tr>\n",
       "      <th>3</th>\n",
       "      <td>0</td>\n",
       "      <td>0</td>\n",
       "      <td>0</td>\n",
       "      <td>0</td>\n",
       "      <td>0</td>\n",
       "      <td>0</td>\n",
       "      <td>0</td>\n",
       "      <td>0</td>\n",
       "      <td>0</td>\n",
       "      <td>0</td>\n",
       "      <td>...</td>\n",
       "      <td>0</td>\n",
       "      <td>0</td>\n",
       "      <td>0</td>\n",
       "      <td>0</td>\n",
       "      <td>0</td>\n",
       "      <td>0</td>\n",
       "      <td>0</td>\n",
       "      <td>0</td>\n",
       "      <td>0</td>\n",
       "      <td>0</td>\n",
       "    </tr>\n",
       "    <tr>\n",
       "      <th>4</th>\n",
       "      <td>0</td>\n",
       "      <td>0</td>\n",
       "      <td>0</td>\n",
       "      <td>0</td>\n",
       "      <td>0</td>\n",
       "      <td>0</td>\n",
       "      <td>0</td>\n",
       "      <td>0</td>\n",
       "      <td>0</td>\n",
       "      <td>0</td>\n",
       "      <td>...</td>\n",
       "      <td>0</td>\n",
       "      <td>0</td>\n",
       "      <td>0</td>\n",
       "      <td>0</td>\n",
       "      <td>0</td>\n",
       "      <td>0</td>\n",
       "      <td>0</td>\n",
       "      <td>0</td>\n",
       "      <td>0</td>\n",
       "      <td>0</td>\n",
       "    </tr>\n",
       "    <tr>\n",
       "      <th>...</th>\n",
       "      <td>...</td>\n",
       "      <td>...</td>\n",
       "      <td>...</td>\n",
       "      <td>...</td>\n",
       "      <td>...</td>\n",
       "      <td>...</td>\n",
       "      <td>...</td>\n",
       "      <td>...</td>\n",
       "      <td>...</td>\n",
       "      <td>...</td>\n",
       "      <td>...</td>\n",
       "      <td>...</td>\n",
       "      <td>...</td>\n",
       "      <td>...</td>\n",
       "      <td>...</td>\n",
       "      <td>...</td>\n",
       "      <td>...</td>\n",
       "      <td>...</td>\n",
       "      <td>...</td>\n",
       "      <td>...</td>\n",
       "      <td>...</td>\n",
       "    </tr>\n",
       "    <tr>\n",
       "      <th>27995</th>\n",
       "      <td>0</td>\n",
       "      <td>0</td>\n",
       "      <td>0</td>\n",
       "      <td>0</td>\n",
       "      <td>0</td>\n",
       "      <td>0</td>\n",
       "      <td>0</td>\n",
       "      <td>0</td>\n",
       "      <td>0</td>\n",
       "      <td>0</td>\n",
       "      <td>...</td>\n",
       "      <td>0</td>\n",
       "      <td>0</td>\n",
       "      <td>0</td>\n",
       "      <td>0</td>\n",
       "      <td>0</td>\n",
       "      <td>0</td>\n",
       "      <td>0</td>\n",
       "      <td>0</td>\n",
       "      <td>0</td>\n",
       "      <td>0</td>\n",
       "    </tr>\n",
       "    <tr>\n",
       "      <th>27996</th>\n",
       "      <td>0</td>\n",
       "      <td>0</td>\n",
       "      <td>0</td>\n",
       "      <td>0</td>\n",
       "      <td>0</td>\n",
       "      <td>0</td>\n",
       "      <td>0</td>\n",
       "      <td>0</td>\n",
       "      <td>0</td>\n",
       "      <td>0</td>\n",
       "      <td>...</td>\n",
       "      <td>0</td>\n",
       "      <td>0</td>\n",
       "      <td>0</td>\n",
       "      <td>0</td>\n",
       "      <td>0</td>\n",
       "      <td>0</td>\n",
       "      <td>0</td>\n",
       "      <td>0</td>\n",
       "      <td>0</td>\n",
       "      <td>0</td>\n",
       "    </tr>\n",
       "    <tr>\n",
       "      <th>27997</th>\n",
       "      <td>0</td>\n",
       "      <td>0</td>\n",
       "      <td>0</td>\n",
       "      <td>0</td>\n",
       "      <td>0</td>\n",
       "      <td>0</td>\n",
       "      <td>0</td>\n",
       "      <td>0</td>\n",
       "      <td>0</td>\n",
       "      <td>0</td>\n",
       "      <td>...</td>\n",
       "      <td>0</td>\n",
       "      <td>0</td>\n",
       "      <td>0</td>\n",
       "      <td>0</td>\n",
       "      <td>0</td>\n",
       "      <td>0</td>\n",
       "      <td>0</td>\n",
       "      <td>0</td>\n",
       "      <td>0</td>\n",
       "      <td>0</td>\n",
       "    </tr>\n",
       "    <tr>\n",
       "      <th>27998</th>\n",
       "      <td>0</td>\n",
       "      <td>0</td>\n",
       "      <td>0</td>\n",
       "      <td>0</td>\n",
       "      <td>0</td>\n",
       "      <td>0</td>\n",
       "      <td>0</td>\n",
       "      <td>0</td>\n",
       "      <td>0</td>\n",
       "      <td>0</td>\n",
       "      <td>...</td>\n",
       "      <td>0</td>\n",
       "      <td>0</td>\n",
       "      <td>0</td>\n",
       "      <td>0</td>\n",
       "      <td>0</td>\n",
       "      <td>0</td>\n",
       "      <td>0</td>\n",
       "      <td>0</td>\n",
       "      <td>0</td>\n",
       "      <td>0</td>\n",
       "    </tr>\n",
       "    <tr>\n",
       "      <th>27999</th>\n",
       "      <td>0</td>\n",
       "      <td>0</td>\n",
       "      <td>0</td>\n",
       "      <td>0</td>\n",
       "      <td>0</td>\n",
       "      <td>0</td>\n",
       "      <td>0</td>\n",
       "      <td>0</td>\n",
       "      <td>0</td>\n",
       "      <td>0</td>\n",
       "      <td>...</td>\n",
       "      <td>0</td>\n",
       "      <td>0</td>\n",
       "      <td>0</td>\n",
       "      <td>0</td>\n",
       "      <td>0</td>\n",
       "      <td>0</td>\n",
       "      <td>0</td>\n",
       "      <td>0</td>\n",
       "      <td>0</td>\n",
       "      <td>0</td>\n",
       "    </tr>\n",
       "  </tbody>\n",
       "</table>\n",
       "<p>28000 rows × 784 columns</p>\n",
       "</div>"
      ],
      "text/plain": [
       "       pixel0  pixel1  pixel2  pixel3  pixel4  pixel5  pixel6  pixel7  pixel8  \\\n",
       "0           0       0       0       0       0       0       0       0       0   \n",
       "1           0       0       0       0       0       0       0       0       0   \n",
       "2           0       0       0       0       0       0       0       0       0   \n",
       "3           0       0       0       0       0       0       0       0       0   \n",
       "4           0       0       0       0       0       0       0       0       0   \n",
       "...       ...     ...     ...     ...     ...     ...     ...     ...     ...   \n",
       "27995       0       0       0       0       0       0       0       0       0   \n",
       "27996       0       0       0       0       0       0       0       0       0   \n",
       "27997       0       0       0       0       0       0       0       0       0   \n",
       "27998       0       0       0       0       0       0       0       0       0   \n",
       "27999       0       0       0       0       0       0       0       0       0   \n",
       "\n",
       "       pixel9  ...  pixel774  pixel775  pixel776  pixel777  pixel778  \\\n",
       "0           0  ...         0         0         0         0         0   \n",
       "1           0  ...         0         0         0         0         0   \n",
       "2           0  ...         0         0         0         0         0   \n",
       "3           0  ...         0         0         0         0         0   \n",
       "4           0  ...         0         0         0         0         0   \n",
       "...       ...  ...       ...       ...       ...       ...       ...   \n",
       "27995       0  ...         0         0         0         0         0   \n",
       "27996       0  ...         0         0         0         0         0   \n",
       "27997       0  ...         0         0         0         0         0   \n",
       "27998       0  ...         0         0         0         0         0   \n",
       "27999       0  ...         0         0         0         0         0   \n",
       "\n",
       "       pixel779  pixel780  pixel781  pixel782  pixel783  \n",
       "0             0         0         0         0         0  \n",
       "1             0         0         0         0         0  \n",
       "2             0         0         0         0         0  \n",
       "3             0         0         0         0         0  \n",
       "4             0         0         0         0         0  \n",
       "...         ...       ...       ...       ...       ...  \n",
       "27995         0         0         0         0         0  \n",
       "27996         0         0         0         0         0  \n",
       "27997         0         0         0         0         0  \n",
       "27998         0         0         0         0         0  \n",
       "27999         0         0         0         0         0  \n",
       "\n",
       "[28000 rows x 784 columns]"
      ]
     },
     "execution_count": 7,
     "metadata": {},
     "output_type": "execute_result"
    }
   ],
   "source": [
    "test_data"
   ]
  },
  {
   "cell_type": "markdown",
   "id": "464251ca",
   "metadata": {
    "papermill": {
     "duration": 0.015821,
     "end_time": "2024-02-18T17:02:47.269982",
     "exception": false,
     "start_time": "2024-02-18T17:02:47.254161",
     "status": "completed"
    },
    "tags": []
   },
   "source": [
    "Test data doesn't have labels!"
   ]
  },
  {
   "cell_type": "markdown",
   "id": "0c8b68df",
   "metadata": {
    "papermill": {
     "duration": 0.015786,
     "end_time": "2024-02-18T17:02:47.301390",
     "exception": false,
     "start_time": "2024-02-18T17:02:47.285604",
     "status": "completed"
    },
    "tags": []
   },
   "source": [
    "## 3. Create Dataloader\n"
   ]
  },
  {
   "cell_type": "markdown",
   "id": "7b496c9b",
   "metadata": {
    "papermill": {
     "duration": 0.01511,
     "end_time": "2024-02-18T17:02:47.331584",
     "exception": false,
     "start_time": "2024-02-18T17:02:47.316474",
     "status": "completed"
    },
    "tags": []
   },
   "source": [
    "### 3.1. Create validation set"
   ]
  },
  {
   "cell_type": "markdown",
   "id": "5119fd01",
   "metadata": {
    "papermill": {
     "duration": 0.015044,
     "end_time": "2024-02-18T17:02:47.362104",
     "exception": false,
     "start_time": "2024-02-18T17:02:47.347060",
     "status": "completed"
    },
    "tags": []
   },
   "source": [
    "First we need to create a validation set because there is no labels in our test data"
   ]
  },
  {
   "cell_type": "code",
   "execution_count": 8,
   "id": "6ca7d77d",
   "metadata": {
    "execution": {
     "iopub.execute_input": "2024-02-18T17:02:47.393781Z",
     "iopub.status.busy": "2024-02-18T17:02:47.393442Z",
     "iopub.status.idle": "2024-02-18T17:02:57.824700Z",
     "shell.execute_reply": "2024-02-18T17:02:57.823945Z"
    },
    "papermill": {
     "duration": 10.449823,
     "end_time": "2024-02-18T17:02:57.827020",
     "exception": false,
     "start_time": "2024-02-18T17:02:47.377197",
     "status": "completed"
    },
    "tags": []
   },
   "outputs": [],
   "source": [
    "train_data['split'] = np.random.randn(train_data.shape[0], 1)\n",
    "\n",
    "# We will create 80% train data and 20% validation data\n",
    "msk = np.random.rand(len(train_data)) <= 0.8\n",
    "\n",
    "val_data = train_data[~msk]\n",
    "train_data = train_data[msk]\n",
    "\n",
    "val_data = val_data.drop(columns=['split'])\n",
    "train_data = train_data.drop(columns=['split'])\n",
    "\n",
    "val_data.to_csv('validation.csv', index=False)\n",
    "train_data.to_csv('train.csv', index=False)"
   ]
  },
  {
   "cell_type": "code",
   "execution_count": 9,
   "id": "e96e17e8",
   "metadata": {
    "execution": {
     "iopub.execute_input": "2024-02-18T17:02:57.859736Z",
     "iopub.status.busy": "2024-02-18T17:02:57.859403Z",
     "iopub.status.idle": "2024-02-18T17:02:57.865294Z",
     "shell.execute_reply": "2024-02-18T17:02:57.864452Z"
    },
    "papermill": {
     "duration": 0.0241,
     "end_time": "2024-02-18T17:02:57.867051",
     "exception": false,
     "start_time": "2024-02-18T17:02:57.842951",
     "status": "completed"
    },
    "tags": []
   },
   "outputs": [
    {
     "data": {
      "text/plain": [
       "(33802, 8198)"
      ]
     },
     "execution_count": 9,
     "metadata": {},
     "output_type": "execute_result"
    }
   ],
   "source": [
    "len(train_data), len(val_data)"
   ]
  },
  {
   "cell_type": "code",
   "execution_count": 10,
   "id": "12f2e59c",
   "metadata": {
    "execution": {
     "iopub.execute_input": "2024-02-18T17:02:57.903646Z",
     "iopub.status.busy": "2024-02-18T17:02:57.903086Z",
     "iopub.status.idle": "2024-02-18T17:02:57.921203Z",
     "shell.execute_reply": "2024-02-18T17:02:57.920364Z"
    },
    "papermill": {
     "duration": 0.039372,
     "end_time": "2024-02-18T17:02:57.923547",
     "exception": false,
     "start_time": "2024-02-18T17:02:57.884175",
     "status": "completed"
    },
    "tags": []
   },
   "outputs": [
    {
     "data": {
      "text/html": [
       "<div>\n",
       "<style scoped>\n",
       "    .dataframe tbody tr th:only-of-type {\n",
       "        vertical-align: middle;\n",
       "    }\n",
       "\n",
       "    .dataframe tbody tr th {\n",
       "        vertical-align: top;\n",
       "    }\n",
       "\n",
       "    .dataframe thead th {\n",
       "        text-align: right;\n",
       "    }\n",
       "</style>\n",
       "<table border=\"1\" class=\"dataframe\">\n",
       "  <thead>\n",
       "    <tr style=\"text-align: right;\">\n",
       "      <th></th>\n",
       "      <th>label</th>\n",
       "      <th>pixel0</th>\n",
       "      <th>pixel1</th>\n",
       "      <th>pixel2</th>\n",
       "      <th>pixel3</th>\n",
       "      <th>pixel4</th>\n",
       "      <th>pixel5</th>\n",
       "      <th>pixel6</th>\n",
       "      <th>pixel7</th>\n",
       "      <th>pixel8</th>\n",
       "      <th>...</th>\n",
       "      <th>pixel774</th>\n",
       "      <th>pixel775</th>\n",
       "      <th>pixel776</th>\n",
       "      <th>pixel777</th>\n",
       "      <th>pixel778</th>\n",
       "      <th>pixel779</th>\n",
       "      <th>pixel780</th>\n",
       "      <th>pixel781</th>\n",
       "      <th>pixel782</th>\n",
       "      <th>pixel783</th>\n",
       "    </tr>\n",
       "  </thead>\n",
       "  <tbody>\n",
       "    <tr>\n",
       "      <th>0</th>\n",
       "      <td>1</td>\n",
       "      <td>0</td>\n",
       "      <td>0</td>\n",
       "      <td>0</td>\n",
       "      <td>0</td>\n",
       "      <td>0</td>\n",
       "      <td>0</td>\n",
       "      <td>0</td>\n",
       "      <td>0</td>\n",
       "      <td>0</td>\n",
       "      <td>...</td>\n",
       "      <td>0</td>\n",
       "      <td>0</td>\n",
       "      <td>0</td>\n",
       "      <td>0</td>\n",
       "      <td>0</td>\n",
       "      <td>0</td>\n",
       "      <td>0</td>\n",
       "      <td>0</td>\n",
       "      <td>0</td>\n",
       "      <td>0</td>\n",
       "    </tr>\n",
       "    <tr>\n",
       "      <th>3</th>\n",
       "      <td>4</td>\n",
       "      <td>0</td>\n",
       "      <td>0</td>\n",
       "      <td>0</td>\n",
       "      <td>0</td>\n",
       "      <td>0</td>\n",
       "      <td>0</td>\n",
       "      <td>0</td>\n",
       "      <td>0</td>\n",
       "      <td>0</td>\n",
       "      <td>...</td>\n",
       "      <td>0</td>\n",
       "      <td>0</td>\n",
       "      <td>0</td>\n",
       "      <td>0</td>\n",
       "      <td>0</td>\n",
       "      <td>0</td>\n",
       "      <td>0</td>\n",
       "      <td>0</td>\n",
       "      <td>0</td>\n",
       "      <td>0</td>\n",
       "    </tr>\n",
       "    <tr>\n",
       "      <th>9</th>\n",
       "      <td>3</td>\n",
       "      <td>0</td>\n",
       "      <td>0</td>\n",
       "      <td>0</td>\n",
       "      <td>0</td>\n",
       "      <td>0</td>\n",
       "      <td>0</td>\n",
       "      <td>0</td>\n",
       "      <td>0</td>\n",
       "      <td>0</td>\n",
       "      <td>...</td>\n",
       "      <td>0</td>\n",
       "      <td>0</td>\n",
       "      <td>0</td>\n",
       "      <td>0</td>\n",
       "      <td>0</td>\n",
       "      <td>0</td>\n",
       "      <td>0</td>\n",
       "      <td>0</td>\n",
       "      <td>0</td>\n",
       "      <td>0</td>\n",
       "    </tr>\n",
       "    <tr>\n",
       "      <th>14</th>\n",
       "      <td>3</td>\n",
       "      <td>0</td>\n",
       "      <td>0</td>\n",
       "      <td>0</td>\n",
       "      <td>0</td>\n",
       "      <td>0</td>\n",
       "      <td>0</td>\n",
       "      <td>0</td>\n",
       "      <td>0</td>\n",
       "      <td>0</td>\n",
       "      <td>...</td>\n",
       "      <td>0</td>\n",
       "      <td>0</td>\n",
       "      <td>0</td>\n",
       "      <td>0</td>\n",
       "      <td>0</td>\n",
       "      <td>0</td>\n",
       "      <td>0</td>\n",
       "      <td>0</td>\n",
       "      <td>0</td>\n",
       "      <td>0</td>\n",
       "    </tr>\n",
       "    <tr>\n",
       "      <th>16</th>\n",
       "      <td>2</td>\n",
       "      <td>0</td>\n",
       "      <td>0</td>\n",
       "      <td>0</td>\n",
       "      <td>0</td>\n",
       "      <td>0</td>\n",
       "      <td>0</td>\n",
       "      <td>0</td>\n",
       "      <td>0</td>\n",
       "      <td>0</td>\n",
       "      <td>...</td>\n",
       "      <td>0</td>\n",
       "      <td>0</td>\n",
       "      <td>0</td>\n",
       "      <td>0</td>\n",
       "      <td>0</td>\n",
       "      <td>0</td>\n",
       "      <td>0</td>\n",
       "      <td>0</td>\n",
       "      <td>0</td>\n",
       "      <td>0</td>\n",
       "    </tr>\n",
       "  </tbody>\n",
       "</table>\n",
       "<p>5 rows × 785 columns</p>\n",
       "</div>"
      ],
      "text/plain": [
       "    label  pixel0  pixel1  pixel2  pixel3  pixel4  pixel5  pixel6  pixel7  \\\n",
       "0       1       0       0       0       0       0       0       0       0   \n",
       "3       4       0       0       0       0       0       0       0       0   \n",
       "9       3       0       0       0       0       0       0       0       0   \n",
       "14      3       0       0       0       0       0       0       0       0   \n",
       "16      2       0       0       0       0       0       0       0       0   \n",
       "\n",
       "    pixel8  ...  pixel774  pixel775  pixel776  pixel777  pixel778  pixel779  \\\n",
       "0        0  ...         0         0         0         0         0         0   \n",
       "3        0  ...         0         0         0         0         0         0   \n",
       "9        0  ...         0         0         0         0         0         0   \n",
       "14       0  ...         0         0         0         0         0         0   \n",
       "16       0  ...         0         0         0         0         0         0   \n",
       "\n",
       "    pixel780  pixel781  pixel782  pixel783  \n",
       "0          0         0         0         0  \n",
       "3          0         0         0         0  \n",
       "9          0         0         0         0  \n",
       "14         0         0         0         0  \n",
       "16         0         0         0         0  \n",
       "\n",
       "[5 rows x 785 columns]"
      ]
     },
     "execution_count": 10,
     "metadata": {},
     "output_type": "execute_result"
    }
   ],
   "source": [
    "val_data.head()"
   ]
  },
  {
   "cell_type": "code",
   "execution_count": 11,
   "id": "6dce77ec",
   "metadata": {
    "execution": {
     "iopub.execute_input": "2024-02-18T17:02:57.960581Z",
     "iopub.status.busy": "2024-02-18T17:02:57.960315Z",
     "iopub.status.idle": "2024-02-18T17:02:57.977077Z",
     "shell.execute_reply": "2024-02-18T17:02:57.976192Z"
    },
    "papermill": {
     "duration": 0.036966,
     "end_time": "2024-02-18T17:02:57.979072",
     "exception": false,
     "start_time": "2024-02-18T17:02:57.942106",
     "status": "completed"
    },
    "tags": []
   },
   "outputs": [
    {
     "data": {
      "text/html": [
       "<div>\n",
       "<style scoped>\n",
       "    .dataframe tbody tr th:only-of-type {\n",
       "        vertical-align: middle;\n",
       "    }\n",
       "\n",
       "    .dataframe tbody tr th {\n",
       "        vertical-align: top;\n",
       "    }\n",
       "\n",
       "    .dataframe thead th {\n",
       "        text-align: right;\n",
       "    }\n",
       "</style>\n",
       "<table border=\"1\" class=\"dataframe\">\n",
       "  <thead>\n",
       "    <tr style=\"text-align: right;\">\n",
       "      <th></th>\n",
       "      <th>label</th>\n",
       "      <th>pixel0</th>\n",
       "      <th>pixel1</th>\n",
       "      <th>pixel2</th>\n",
       "      <th>pixel3</th>\n",
       "      <th>pixel4</th>\n",
       "      <th>pixel5</th>\n",
       "      <th>pixel6</th>\n",
       "      <th>pixel7</th>\n",
       "      <th>pixel8</th>\n",
       "      <th>...</th>\n",
       "      <th>pixel774</th>\n",
       "      <th>pixel775</th>\n",
       "      <th>pixel776</th>\n",
       "      <th>pixel777</th>\n",
       "      <th>pixel778</th>\n",
       "      <th>pixel779</th>\n",
       "      <th>pixel780</th>\n",
       "      <th>pixel781</th>\n",
       "      <th>pixel782</th>\n",
       "      <th>pixel783</th>\n",
       "    </tr>\n",
       "  </thead>\n",
       "  <tbody>\n",
       "    <tr>\n",
       "      <th>1</th>\n",
       "      <td>0</td>\n",
       "      <td>0</td>\n",
       "      <td>0</td>\n",
       "      <td>0</td>\n",
       "      <td>0</td>\n",
       "      <td>0</td>\n",
       "      <td>0</td>\n",
       "      <td>0</td>\n",
       "      <td>0</td>\n",
       "      <td>0</td>\n",
       "      <td>...</td>\n",
       "      <td>0</td>\n",
       "      <td>0</td>\n",
       "      <td>0</td>\n",
       "      <td>0</td>\n",
       "      <td>0</td>\n",
       "      <td>0</td>\n",
       "      <td>0</td>\n",
       "      <td>0</td>\n",
       "      <td>0</td>\n",
       "      <td>0</td>\n",
       "    </tr>\n",
       "    <tr>\n",
       "      <th>2</th>\n",
       "      <td>1</td>\n",
       "      <td>0</td>\n",
       "      <td>0</td>\n",
       "      <td>0</td>\n",
       "      <td>0</td>\n",
       "      <td>0</td>\n",
       "      <td>0</td>\n",
       "      <td>0</td>\n",
       "      <td>0</td>\n",
       "      <td>0</td>\n",
       "      <td>...</td>\n",
       "      <td>0</td>\n",
       "      <td>0</td>\n",
       "      <td>0</td>\n",
       "      <td>0</td>\n",
       "      <td>0</td>\n",
       "      <td>0</td>\n",
       "      <td>0</td>\n",
       "      <td>0</td>\n",
       "      <td>0</td>\n",
       "      <td>0</td>\n",
       "    </tr>\n",
       "    <tr>\n",
       "      <th>4</th>\n",
       "      <td>0</td>\n",
       "      <td>0</td>\n",
       "      <td>0</td>\n",
       "      <td>0</td>\n",
       "      <td>0</td>\n",
       "      <td>0</td>\n",
       "      <td>0</td>\n",
       "      <td>0</td>\n",
       "      <td>0</td>\n",
       "      <td>0</td>\n",
       "      <td>...</td>\n",
       "      <td>0</td>\n",
       "      <td>0</td>\n",
       "      <td>0</td>\n",
       "      <td>0</td>\n",
       "      <td>0</td>\n",
       "      <td>0</td>\n",
       "      <td>0</td>\n",
       "      <td>0</td>\n",
       "      <td>0</td>\n",
       "      <td>0</td>\n",
       "    </tr>\n",
       "    <tr>\n",
       "      <th>5</th>\n",
       "      <td>0</td>\n",
       "      <td>0</td>\n",
       "      <td>0</td>\n",
       "      <td>0</td>\n",
       "      <td>0</td>\n",
       "      <td>0</td>\n",
       "      <td>0</td>\n",
       "      <td>0</td>\n",
       "      <td>0</td>\n",
       "      <td>0</td>\n",
       "      <td>...</td>\n",
       "      <td>0</td>\n",
       "      <td>0</td>\n",
       "      <td>0</td>\n",
       "      <td>0</td>\n",
       "      <td>0</td>\n",
       "      <td>0</td>\n",
       "      <td>0</td>\n",
       "      <td>0</td>\n",
       "      <td>0</td>\n",
       "      <td>0</td>\n",
       "    </tr>\n",
       "    <tr>\n",
       "      <th>6</th>\n",
       "      <td>7</td>\n",
       "      <td>0</td>\n",
       "      <td>0</td>\n",
       "      <td>0</td>\n",
       "      <td>0</td>\n",
       "      <td>0</td>\n",
       "      <td>0</td>\n",
       "      <td>0</td>\n",
       "      <td>0</td>\n",
       "      <td>0</td>\n",
       "      <td>...</td>\n",
       "      <td>0</td>\n",
       "      <td>0</td>\n",
       "      <td>0</td>\n",
       "      <td>0</td>\n",
       "      <td>0</td>\n",
       "      <td>0</td>\n",
       "      <td>0</td>\n",
       "      <td>0</td>\n",
       "      <td>0</td>\n",
       "      <td>0</td>\n",
       "    </tr>\n",
       "  </tbody>\n",
       "</table>\n",
       "<p>5 rows × 785 columns</p>\n",
       "</div>"
      ],
      "text/plain": [
       "   label  pixel0  pixel1  pixel2  pixel3  pixel4  pixel5  pixel6  pixel7  \\\n",
       "1      0       0       0       0       0       0       0       0       0   \n",
       "2      1       0       0       0       0       0       0       0       0   \n",
       "4      0       0       0       0       0       0       0       0       0   \n",
       "5      0       0       0       0       0       0       0       0       0   \n",
       "6      7       0       0       0       0       0       0       0       0   \n",
       "\n",
       "   pixel8  ...  pixel774  pixel775  pixel776  pixel777  pixel778  pixel779  \\\n",
       "1       0  ...         0         0         0         0         0         0   \n",
       "2       0  ...         0         0         0         0         0         0   \n",
       "4       0  ...         0         0         0         0         0         0   \n",
       "5       0  ...         0         0         0         0         0         0   \n",
       "6       0  ...         0         0         0         0         0         0   \n",
       "\n",
       "   pixel780  pixel781  pixel782  pixel783  \n",
       "1         0         0         0         0  \n",
       "2         0         0         0         0  \n",
       "4         0         0         0         0  \n",
       "5         0         0         0         0  \n",
       "6         0         0         0         0  \n",
       "\n",
       "[5 rows x 785 columns]"
      ]
     },
     "execution_count": 11,
     "metadata": {},
     "output_type": "execute_result"
    }
   ],
   "source": [
    "train_data.head()"
   ]
  },
  {
   "cell_type": "markdown",
   "id": "3642ecc4",
   "metadata": {
    "papermill": {
     "duration": 0.016662,
     "end_time": "2024-02-18T17:02:58.012033",
     "exception": false,
     "start_time": "2024-02-18T17:02:57.995371",
     "status": "completed"
    },
    "tags": []
   },
   "source": [
    "### 3.2. Create Dataset class and instantiate Dataloaders"
   ]
  },
  {
   "cell_type": "code",
   "execution_count": 12,
   "id": "6cf0e940",
   "metadata": {
    "execution": {
     "iopub.execute_input": "2024-02-18T17:02:58.047021Z",
     "iopub.status.busy": "2024-02-18T17:02:58.046742Z",
     "iopub.status.idle": "2024-02-18T17:02:58.055888Z",
     "shell.execute_reply": "2024-02-18T17:02:58.054966Z"
    },
    "papermill": {
     "duration": 0.029243,
     "end_time": "2024-02-18T17:02:58.058040",
     "exception": false,
     "start_time": "2024-02-18T17:02:58.028797",
     "status": "completed"
    },
    "tags": []
   },
   "outputs": [
    {
     "data": {
      "text/plain": [
       "array([0, 1, 7, 3, 5, 8, 9, 6, 2, 4])"
      ]
     },
     "execution_count": 12,
     "metadata": {},
     "output_type": "execute_result"
    }
   ],
   "source": [
    "# Train data shape\n",
    "classes = train_data.label.unique()\n",
    "classes"
   ]
  },
  {
   "cell_type": "code",
   "execution_count": 13,
   "id": "8d8d1786",
   "metadata": {
    "execution": {
     "iopub.execute_input": "2024-02-18T17:02:58.136681Z",
     "iopub.status.busy": "2024-02-18T17:02:58.135892Z",
     "iopub.status.idle": "2024-02-18T17:02:58.145534Z",
     "shell.execute_reply": "2024-02-18T17:02:58.144771Z"
    },
    "papermill": {
     "duration": 0.029299,
     "end_time": "2024-02-18T17:02:58.147415",
     "exception": false,
     "start_time": "2024-02-18T17:02:58.118116",
     "status": "completed"
    },
    "tags": []
   },
   "outputs": [],
   "source": [
    "import torch.utils.data\n",
    "import torchvision.transforms as transforms\n",
    "\n",
    "class DigitRecognizerDataset(torch.utils.data.Dataset):\n",
    "    def __init__(self, csv_file, transform=None, train=True):\n",
    "        self.df = pd.read_csv(csv_file)\n",
    "        if train:\n",
    "            self.features_train = self.df.iloc[:, 1:].to_numpy().reshape(len(self.df), 28, 28).astype(np.uint8)\n",
    "        else:\n",
    "            self.features_test = self.df.to_numpy().reshape(len(self.df), 28, 28).astype(np.uint8)\n",
    "        self.labels = torch.from_numpy(self.df.iloc[:, 0].to_numpy())\n",
    "        self.transform = transform\n",
    "        self.train = train\n",
    "        \n",
    "    def __len__(self):\n",
    "        return len(self.df)\n",
    "    \n",
    "    def __getitem__(self, index):\n",
    "        if self.train:\n",
    "            features = self.features_train[index]\n",
    "            labels = self.labels[index]\n",
    "            if self.transform:\n",
    "                features = self.transform(features)\n",
    "            return features, labels\n",
    "        else:\n",
    "            features = self.features_test[index]\n",
    "            if self.transform:\n",
    "                features = self.transform(features)\n",
    "            return features"
   ]
  },
  {
   "cell_type": "code",
   "execution_count": 14,
   "id": "86a699b7",
   "metadata": {
    "execution": {
     "iopub.execute_input": "2024-02-18T17:02:58.181846Z",
     "iopub.status.busy": "2024-02-18T17:02:58.181544Z",
     "iopub.status.idle": "2024-02-18T17:03:00.193951Z",
     "shell.execute_reply": "2024-02-18T17:03:00.192972Z"
    },
    "papermill": {
     "duration": 2.031835,
     "end_time": "2024-02-18T17:03:00.196232",
     "exception": false,
     "start_time": "2024-02-18T17:02:58.164397",
     "status": "completed"
    },
    "tags": []
   },
   "outputs": [],
   "source": [
    "BATCH_SIZE = 32\n",
    "\n",
    "train_data_object = DigitRecognizerDataset(\"train.csv\", \n",
    "                                           transform=transforms.Compose([\n",
    "                                                    transforms.ToTensor()]))\n",
    "\n",
    "train_loader = torch.utils.data.DataLoader(train_data_object,\n",
    "                                        batch_size=BATCH_SIZE,\n",
    "                                        shuffle=True)"
   ]
  },
  {
   "cell_type": "code",
   "execution_count": 15,
   "id": "434b574e",
   "metadata": {
    "execution": {
     "iopub.execute_input": "2024-02-18T17:03:00.230888Z",
     "iopub.status.busy": "2024-02-18T17:03:00.230571Z",
     "iopub.status.idle": "2024-02-18T17:03:00.749127Z",
     "shell.execute_reply": "2024-02-18T17:03:00.748119Z"
    },
    "papermill": {
     "duration": 0.538233,
     "end_time": "2024-02-18T17:03:00.751465",
     "exception": false,
     "start_time": "2024-02-18T17:03:00.213232",
     "status": "completed"
    },
    "tags": []
   },
   "outputs": [],
   "source": [
    "val_data_object = DigitRecognizerDataset(\"validation.csv\",\n",
    "                                        transform=transforms.Compose([\n",
    "                                                    transforms.ToTensor()]))\n",
    "\n",
    "val_loader = torch.utils.data.DataLoader(val_data_object,\n",
    "                                        batch_size=BATCH_SIZE,\n",
    "                                        shuffle=True)"
   ]
  },
  {
   "cell_type": "code",
   "execution_count": 16,
   "id": "47e09d08",
   "metadata": {
    "execution": {
     "iopub.execute_input": "2024-02-18T17:03:00.786195Z",
     "iopub.status.busy": "2024-02-18T17:03:00.785857Z",
     "iopub.status.idle": "2024-02-18T17:03:02.443341Z",
     "shell.execute_reply": "2024-02-18T17:03:02.442471Z"
    },
    "papermill": {
     "duration": 1.677368,
     "end_time": "2024-02-18T17:03:02.445771",
     "exception": false,
     "start_time": "2024-02-18T17:03:00.768403",
     "status": "completed"
    },
    "tags": []
   },
   "outputs": [],
   "source": [
    "test_data_object = DigitRecognizerDataset(\"/kaggle/input/digit-recognizer/test.csv\",\n",
    "                                        transform=transforms.Compose([\n",
    "                                                    transforms.ToTensor()]),\n",
    "                                         train=False)\n",
    "\n",
    "test_loader = torch.utils.data.DataLoader(test_data_object,\n",
    "                                        batch_size=BATCH_SIZE,\n",
    "                                        shuffle=False)"
   ]
  },
  {
   "cell_type": "code",
   "execution_count": 17,
   "id": "28891023",
   "metadata": {
    "execution": {
     "iopub.execute_input": "2024-02-18T17:03:02.482012Z",
     "iopub.status.busy": "2024-02-18T17:03:02.481246Z",
     "iopub.status.idle": "2024-02-18T17:03:02.487403Z",
     "shell.execute_reply": "2024-02-18T17:03:02.486551Z"
    },
    "papermill": {
     "duration": 0.026106,
     "end_time": "2024-02-18T17:03:02.489413",
     "exception": false,
     "start_time": "2024-02-18T17:03:02.463307",
     "status": "completed"
    },
    "tags": []
   },
   "outputs": [
    {
     "data": {
      "text/plain": [
       "(1057, 257)"
      ]
     },
     "execution_count": 17,
     "metadata": {},
     "output_type": "execute_result"
    }
   ],
   "source": [
    "len(train_loader), len(val_loader)"
   ]
  },
  {
   "cell_type": "markdown",
   "id": "780c7d57",
   "metadata": {
    "papermill": {
     "duration": 0.016768,
     "end_time": "2024-02-18T17:03:02.522962",
     "exception": false,
     "start_time": "2024-02-18T17:03:02.506194",
     "status": "completed"
    },
    "tags": []
   },
   "source": [
    "### Visualize if the DataLoader works"
   ]
  },
  {
   "cell_type": "code",
   "execution_count": 18,
   "id": "bb37b883",
   "metadata": {
    "execution": {
     "iopub.execute_input": "2024-02-18T17:03:02.557623Z",
     "iopub.status.busy": "2024-02-18T17:03:02.557375Z",
     "iopub.status.idle": "2024-02-18T17:03:02.595349Z",
     "shell.execute_reply": "2024-02-18T17:03:02.594522Z"
    },
    "papermill": {
     "duration": 0.057644,
     "end_time": "2024-02-18T17:03:02.597201",
     "exception": false,
     "start_time": "2024-02-18T17:03:02.539557",
     "status": "completed"
    },
    "tags": []
   },
   "outputs": [
    {
     "data": {
      "text/plain": [
       "(torch.Size([32, 1, 28, 28]), torch.Size([32]))"
      ]
     },
     "execution_count": 18,
     "metadata": {},
     "output_type": "execute_result"
    }
   ],
   "source": [
    "sample_img, sample_label = next(iter(train_loader))\n",
    "sample_img.shape, sample_label.shape"
   ]
  },
  {
   "cell_type": "code",
   "execution_count": 19,
   "id": "8d47452c",
   "metadata": {
    "execution": {
     "iopub.execute_input": "2024-02-18T17:03:02.631616Z",
     "iopub.status.busy": "2024-02-18T17:03:02.631369Z",
     "iopub.status.idle": "2024-02-18T17:03:02.733676Z",
     "shell.execute_reply": "2024-02-18T17:03:02.732822Z"
    },
    "papermill": {
     "duration": 0.121513,
     "end_time": "2024-02-18T17:03:02.735562",
     "exception": false,
     "start_time": "2024-02-18T17:03:02.614049",
     "status": "completed"
    },
    "tags": []
   },
   "outputs": [
    {
     "data": {
      "text/plain": [
       "<function matplotlib.pyplot.show(close=None, block=None)>"
      ]
     },
     "execution_count": 19,
     "metadata": {},
     "output_type": "execute_result"
    },
    {
     "data": {
      "image/png": "[encoded data removed]",
      "text/plain": [
       "<Figure size 500x300 with 1 Axes>"
      ]
     },
     "metadata": {},
     "output_type": "display_data"
    }
   ],
   "source": [
    "# Visualize the sample image\n",
    "plt.figure(figsize=(5,3))\n",
    "plt.imshow(sample_img[0].permute(1,2,0), cmap='gray')\n",
    "plt.axis(False)\n",
    "plt.title(sample_label[0].item())\n",
    "plt.show"
   ]
  },
  {
   "cell_type": "markdown",
   "id": "eb4aeb92",
   "metadata": {
    "papermill": {
     "duration": 0.017794,
     "end_time": "2024-02-18T17:03:02.771280",
     "exception": false,
     "start_time": "2024-02-18T17:03:02.753486",
     "status": "completed"
    },
    "tags": []
   },
   "source": [
    "**It works!**"
   ]
  },
  {
   "cell_type": "markdown",
   "id": "3a5a737f",
   "metadata": {
    "papermill": {
     "duration": 0.016459,
     "end_time": "2024-02-18T17:03:02.804403",
     "exception": false,
     "start_time": "2024-02-18T17:03:02.787944",
     "status": "completed"
    },
    "tags": []
   },
   "source": [
    "Let's check more images"
   ]
  },
  {
   "cell_type": "code",
   "execution_count": 20,
   "id": "5f86adc3",
   "metadata": {
    "execution": {
     "iopub.execute_input": "2024-02-18T17:03:02.838977Z",
     "iopub.status.busy": "2024-02-18T17:03:02.838705Z",
     "iopub.status.idle": "2024-02-18T17:03:03.431215Z",
     "shell.execute_reply": "2024-02-18T17:03:03.430202Z"
    },
    "papermill": {
     "duration": 0.612264,
     "end_time": "2024-02-18T17:03:03.433524",
     "exception": false,
     "start_time": "2024-02-18T17:03:02.821260",
     "status": "completed"
    },
    "tags": []
   },
   "outputs": [
    {
     "data": {
      "image/png": "[encoded data removed]",
      "text/plain": [
       "<Figure size 1000x700 with 9 Axes>"
      ]
     },
     "metadata": {},
     "output_type": "display_data"
    }
   ],
   "source": [
    "torch.manual_seed(42)\n",
    "\n",
    "random_idx = torch.randint(0, len(train_data), (9,))\n",
    "n_rows, n_columns = 3, 3\n",
    "idx = 1\n",
    "\n",
    "sample_img, sample_label = next(iter(train_loader))\n",
    "plt.figure(figsize=(10,7))\n",
    "for i in range(9):\n",
    "\n",
    "    plt.subplot(n_rows, n_columns, idx)\n",
    "    plt.imshow(sample_img[i].permute(1,2,0), cmap='gray')\n",
    "    plt.axis(False)\n",
    "    plt.title(sample_label[i].item())\n",
    "    plt.show\n",
    "    \n",
    "    idx += 1"
   ]
  },
  {
   "cell_type": "markdown",
   "id": "800ee276",
   "metadata": {
    "papermill": {
     "duration": 0.01767,
     "end_time": "2024-02-18T17:03:03.468686",
     "exception": false,
     "start_time": "2024-02-18T17:03:03.451016",
     "status": "completed"
    },
    "tags": []
   },
   "source": [
    "Let's visualize the validation set"
   ]
  },
  {
   "cell_type": "code",
   "execution_count": 21,
   "id": "0bb40402",
   "metadata": {
    "execution": {
     "iopub.execute_input": "2024-02-18T17:03:03.505216Z",
     "iopub.status.busy": "2024-02-18T17:03:03.504937Z",
     "iopub.status.idle": "2024-02-18T17:03:04.099534Z",
     "shell.execute_reply": "2024-02-18T17:03:04.098636Z"
    },
    "papermill": {
     "duration": 0.61498,
     "end_time": "2024-02-18T17:03:04.101621",
     "exception": false,
     "start_time": "2024-02-18T17:03:03.486641",
     "status": "completed"
    },
    "tags": []
   },
   "outputs": [
    {
     "data": {
      "image/png": "[encoded data removed]",
      "text/plain": [
       "<Figure size 1000x700 with 9 Axes>"
      ]
     },
     "metadata": {},
     "output_type": "display_data"
    }
   ],
   "source": [
    "torch.manual_seed(42)\n",
    "\n",
    "random_idx = torch.randint(0, len(train_data), (9,))\n",
    "n_rows, n_columns = 3, 3\n",
    "idx = 1\n",
    "\n",
    "sample_img, sample_label = next(iter(val_loader))\n",
    "plt.figure(figsize=(10,7))\n",
    "for i in range(9):\n",
    "\n",
    "    plt.subplot(n_rows, n_columns, idx)\n",
    "    plt.imshow(sample_img[i].permute(1,2,0), cmap='gray')\n",
    "    plt.axis(False)\n",
    "    plt.title(sample_label[i].item())\n",
    "    plt.show\n",
    "    \n",
    "    idx += 1"
   ]
  },
  {
   "cell_type": "markdown",
   "id": "563856d9",
   "metadata": {
    "papermill": {
     "duration": 0.017203,
     "end_time": "2024-02-18T17:03:04.136785",
     "exception": false,
     "start_time": "2024-02-18T17:03:04.119582",
     "status": "completed"
    },
    "tags": []
   },
   "source": [
    "Lastly, let's check the tensors from our dataloaders"
   ]
  },
  {
   "cell_type": "code",
   "execution_count": 22,
   "id": "89dcf341",
   "metadata": {
    "execution": {
     "iopub.execute_input": "2024-02-18T17:03:04.173462Z",
     "iopub.status.busy": "2024-02-18T17:03:04.173162Z",
     "iopub.status.idle": "2024-02-18T17:03:04.178705Z",
     "shell.execute_reply": "2024-02-18T17:03:04.177899Z"
    },
    "papermill": {
     "duration": 0.026365,
     "end_time": "2024-02-18T17:03:04.180610",
     "exception": false,
     "start_time": "2024-02-18T17:03:04.154245",
     "status": "completed"
    },
    "tags": []
   },
   "outputs": [
    {
     "data": {
      "text/plain": [
       "(torch.float32, torch.int64)"
      ]
     },
     "execution_count": 22,
     "metadata": {},
     "output_type": "execute_result"
    }
   ],
   "source": [
    "sample_img.dtype, sample_label.dtype # Pytorch loves float32!"
   ]
  },
  {
   "cell_type": "markdown",
   "id": "d537072f",
   "metadata": {
    "papermill": {
     "duration": 0.017183,
     "end_time": "2024-02-18T17:03:04.215548",
     "exception": false,
     "start_time": "2024-02-18T17:03:04.198365",
     "status": "completed"
    },
    "tags": []
   },
   "source": [
    "## 4. Create a CNN"
   ]
  },
  {
   "cell_type": "code",
   "execution_count": 23,
   "id": "030f911d",
   "metadata": {
    "execution": {
     "iopub.execute_input": "2024-02-18T17:03:04.253954Z",
     "iopub.status.busy": "2024-02-18T17:03:04.253663Z",
     "iopub.status.idle": "2024-02-18T17:03:04.262409Z",
     "shell.execute_reply": "2024-02-18T17:03:04.261755Z"
    },
    "papermill": {
     "duration": 0.031293,
     "end_time": "2024-02-18T17:03:04.264301",
     "exception": false,
     "start_time": "2024-02-18T17:03:04.233008",
     "status": "completed"
    },
    "tags": []
   },
   "outputs": [],
   "source": [
    "import torch.nn as nn\n",
    "\n",
    "class DigitRecognizerModel(nn.Module):\n",
    "    def __init__(self, in_channels, hidden_channels, out_features, kernel_size):\n",
    "        super().__init__()\n",
    "        self.conv1 = nn.Sequential(\n",
    "            nn.Conv2d(in_channels=in_channels,\n",
    "                     out_channels=hidden_channels,\n",
    "                     kernel_size=kernel_size),\n",
    "            nn.ReLU(),\n",
    "            nn.Conv2d(in_channels=hidden_channels,\n",
    "                     out_channels=hidden_channels,\n",
    "                     kernel_size=kernel_size),\n",
    "            nn.ReLU(),\n",
    "            nn.MaxPool2d(kernel_size=kernel_size)\n",
    "        )\n",
    "        self.conv2 = nn.Sequential(\n",
    "            nn.Conv2d(in_channels=hidden_channels,\n",
    "                     out_channels=hidden_channels,\n",
    "                     kernel_size=kernel_size),\n",
    "            nn.ReLU(),\n",
    "            nn.Conv2d(in_channels=hidden_channels,\n",
    "                     out_channels=hidden_channels,\n",
    "                     kernel_size=kernel_size),\n",
    "            nn.ReLU(),\n",
    "            nn.MaxPool2d(kernel_size=kernel_size)\n",
    "        )\n",
    "        self.classifier = nn.Sequential(\n",
    "            nn.Flatten(),\n",
    "            nn.Linear(in_features=hidden_channels*5*5,\n",
    "                     out_features=out_features)\n",
    "        )\n",
    "\n",
    "    def forward(self, x):\n",
    "        x = self.conv1(x)\n",
    "        x = self.conv2(x)\n",
    "        x = self.classifier(x)\n",
    "        return x"
   ]
  },
  {
   "cell_type": "code",
   "execution_count": 24,
   "id": "7f3e6ef3",
   "metadata": {
    "execution": {
     "iopub.execute_input": "2024-02-18T17:03:04.300517Z",
     "iopub.status.busy": "2024-02-18T17:03:04.300263Z",
     "iopub.status.idle": "2024-02-18T17:03:04.386882Z",
     "shell.execute_reply": "2024-02-18T17:03:04.385959Z"
    },
    "papermill": {
     "duration": 0.106732,
     "end_time": "2024-02-18T17:03:04.388790",
     "exception": false,
     "start_time": "2024-02-18T17:03:04.282058",
     "status": "completed"
    },
    "tags": []
   },
   "outputs": [
    {
     "data": {
      "text/plain": [
       "'cuda'"
      ]
     },
     "execution_count": 24,
     "metadata": {},
     "output_type": "execute_result"
    }
   ],
   "source": [
    "device = 'cuda' if torch.cuda.is_available() else 'cpu'\n",
    "device"
   ]
  },
  {
   "cell_type": "code",
   "execution_count": 25,
   "id": "f68f0d5e",
   "metadata": {
    "execution": {
     "iopub.execute_input": "2024-02-18T17:03:04.426683Z",
     "iopub.status.busy": "2024-02-18T17:03:04.426389Z",
     "iopub.status.idle": "2024-02-18T17:03:04.609130Z",
     "shell.execute_reply": "2024-02-18T17:03:04.608211Z"
    },
    "papermill": {
     "duration": 0.203873,
     "end_time": "2024-02-18T17:03:04.611222",
     "exception": false,
     "start_time": "2024-02-18T17:03:04.407349",
     "status": "completed"
    },
    "tags": []
   },
   "outputs": [
    {
     "data": {
      "text/plain": [
       "DigitRecognizerModel(\n",
       "  (conv1): Sequential(\n",
       "    (0): Conv2d(1, 16, kernel_size=(2, 2), stride=(1, 1))\n",
       "    (1): ReLU()\n",
       "    (2): Conv2d(16, 16, kernel_size=(2, 2), stride=(1, 1))\n",
       "    (3): ReLU()\n",
       "    (4): MaxPool2d(kernel_size=2, stride=2, padding=0, dilation=1, ceil_mode=False)\n",
       "  )\n",
       "  (conv2): Sequential(\n",
       "    (0): Conv2d(16, 16, kernel_size=(2, 2), stride=(1, 1))\n",
       "    (1): ReLU()\n",
       "    (2): Conv2d(16, 16, kernel_size=(2, 2), stride=(1, 1))\n",
       "    (3): ReLU()\n",
       "    (4): MaxPool2d(kernel_size=2, stride=2, padding=0, dilation=1, ceil_mode=False)\n",
       "  )\n",
       "  (classifier): Sequential(\n",
       "    (0): Flatten(start_dim=1, end_dim=-1)\n",
       "    (1): Linear(in_features=400, out_features=10, bias=True)\n",
       "  )\n",
       ")"
      ]
     },
     "execution_count": 25,
     "metadata": {},
     "output_type": "execute_result"
    }
   ],
   "source": [
    "model = DigitRecognizerModel(in_channels = 1,\n",
    "                            hidden_channels = 16,\n",
    "                            out_features = len(classes),\n",
    "                            kernel_size = 2).to(device)\n",
    "model"
   ]
  },
  {
   "cell_type": "markdown",
   "id": "51828f06",
   "metadata": {
    "papermill": {
     "duration": 0.017929,
     "end_time": "2024-02-18T17:03:04.647750",
     "exception": false,
     "start_time": "2024-02-18T17:03:04.629821",
     "status": "completed"
    },
    "tags": []
   },
   "source": [
    "### 4.1 Test a forward pass to check dimensions"
   ]
  },
  {
   "cell_type": "code",
   "execution_count": 26,
   "id": "cbb4d1c7",
   "metadata": {
    "execution": {
     "iopub.execute_input": "2024-02-18T17:03:04.685458Z",
     "iopub.status.busy": "2024-02-18T17:03:04.685144Z",
     "iopub.status.idle": "2024-02-18T17:03:05.596180Z",
     "shell.execute_reply": "2024-02-18T17:03:05.595052Z"
    },
    "papermill": {
     "duration": 0.932438,
     "end_time": "2024-02-18T17:03:05.598313",
     "exception": false,
     "start_time": "2024-02-18T17:03:04.665875",
     "status": "completed"
    },
    "tags": []
   },
   "outputs": [
    {
     "data": {
      "text/plain": [
       "tensor([[-0.1084,  0.0482,  0.0190,  0.0289,  0.1350,  0.0102,  0.0080, -0.0903,\n",
       "          0.1193, -0.0307]], device='cuda:0', grad_fn=<AddmmBackward0>)"
      ]
     },
     "execution_count": 26,
     "metadata": {},
     "output_type": "execute_result"
    }
   ],
   "source": [
    "img_sample = torch.randn((1,28,28)).unsqueeze(dim=0).to(device)\n",
    "model(img_sample)"
   ]
  },
  {
   "cell_type": "markdown",
   "id": "2d3a921b",
   "metadata": {
    "papermill": {
     "duration": 0.017907,
     "end_time": "2024-02-18T17:03:05.635317",
     "exception": false,
     "start_time": "2024-02-18T17:03:05.617410",
     "status": "completed"
    },
    "tags": []
   },
   "source": [
    "### 4.2 Create a train pass function and test pass function"
   ]
  },
  {
   "cell_type": "code",
   "execution_count": 27,
   "id": "08d43540",
   "metadata": {
    "execution": {
     "iopub.execute_input": "2024-02-18T17:03:05.676411Z",
     "iopub.status.busy": "2024-02-18T17:03:05.675602Z",
     "iopub.status.idle": "2024-02-18T17:03:05.682067Z",
     "shell.execute_reply": "2024-02-18T17:03:05.681163Z"
    },
    "papermill": {
     "duration": 0.030932,
     "end_time": "2024-02-18T17:03:05.684280",
     "exception": false,
     "start_time": "2024-02-18T17:03:05.653348",
     "status": "completed"
    },
    "tags": []
   },
   "outputs": [],
   "source": [
    "loss_fn = nn.CrossEntropyLoss()\n",
    "optimizer = torch.optim.SGD(params=model.parameters(),\n",
    "                           lr=0.1)\n",
    "softmax = nn.Softmax(dim=1)"
   ]
  },
  {
   "cell_type": "code",
   "execution_count": 28,
   "id": "745e61b7",
   "metadata": {
    "execution": {
     "iopub.execute_input": "2024-02-18T17:03:05.725149Z",
     "iopub.status.busy": "2024-02-18T17:03:05.724866Z",
     "iopub.status.idle": "2024-02-18T17:03:05.733918Z",
     "shell.execute_reply": "2024-02-18T17:03:05.733079Z"
    },
    "papermill": {
     "duration": 0.031518,
     "end_time": "2024-02-18T17:03:05.735883",
     "exception": false,
     "start_time": "2024-02-18T17:03:05.704365",
     "status": "completed"
    },
    "tags": []
   },
   "outputs": [],
   "source": [
    "accuracy = Accuracy(task=\"multiclass\", num_classes=len(classes)).to(device)"
   ]
  },
  {
   "cell_type": "code",
   "execution_count": 29,
   "id": "a80b0669",
   "metadata": {
    "execution": {
     "iopub.execute_input": "2024-02-18T17:03:05.774192Z",
     "iopub.status.busy": "2024-02-18T17:03:05.773487Z",
     "iopub.status.idle": "2024-02-18T17:03:05.868197Z",
     "shell.execute_reply": "2024-02-18T17:03:05.867270Z"
    },
    "papermill": {
     "duration": 0.116792,
     "end_time": "2024-02-18T17:03:05.870870",
     "exception": false,
     "start_time": "2024-02-18T17:03:05.754078",
     "status": "completed"
    },
    "tags": []
   },
   "outputs": [
    {
     "data": {
      "text/plain": [
       "tensor([2, 5, 7, 0, 6], device='cuda:0')"
      ]
     },
     "execution_count": 29,
     "metadata": {},
     "output_type": "execute_result"
    }
   ],
   "source": [
    "# Testing softmax output\n",
    "sample_softmax = torch.randn(size=(5,10)).to(device)\n",
    "torch.argmax(softmax(sample_softmax), dim=1) # It is important to write the target dimension!"
   ]
  },
  {
   "cell_type": "code",
   "execution_count": 30,
   "id": "0d8900cd",
   "metadata": {
    "execution": {
     "iopub.execute_input": "2024-02-18T17:03:05.912786Z",
     "iopub.status.busy": "2024-02-18T17:03:05.912404Z",
     "iopub.status.idle": "2024-02-18T17:03:05.921785Z",
     "shell.execute_reply": "2024-02-18T17:03:05.920741Z"
    },
    "papermill": {
     "duration": 0.031145,
     "end_time": "2024-02-18T17:03:05.924132",
     "exception": false,
     "start_time": "2024-02-18T17:03:05.892987",
     "status": "completed"
    },
    "tags": []
   },
   "outputs": [],
   "source": [
    "def train_pass(model, dataloader, loss_fn, accuracy, softmax, device):\n",
    "    \n",
    "    total_loss = 0\n",
    "    total_acc = 0\n",
    "    \n",
    "    model.train()\n",
    "    \n",
    "    for X, y in dataloader:\n",
    "        \n",
    "        X, y = X.to(device), y.to(device)\n",
    "        \n",
    "        # 1. Forward pass\n",
    "        y_logits = model(X)\n",
    "        y_preds = torch.argmax(softmax(y_logits), dim=1).to(torch.int64)\n",
    "                \n",
    "        # 2. Loss\n",
    "        loss = loss_fn(y_logits, y)\n",
    "        total_loss += loss\n",
    "        total_acc += accuracy(y_preds, y)\n",
    "        \n",
    "        # 3. Zero grad\n",
    "        optimizer.zero_grad()\n",
    "        \n",
    "        # 4. Backward\n",
    "        loss.backward()\n",
    "        \n",
    "        # 5. Step\n",
    "        optimizer.step()\n",
    "        \n",
    "    train_loss = total_loss / len(dataloader)\n",
    "    train_acc = total_acc / len(dataloader)\n",
    "    \n",
    "    return train_loss, train_acc"
   ]
  },
  {
   "cell_type": "code",
   "execution_count": 31,
   "id": "a4383989",
   "metadata": {
    "execution": {
     "iopub.execute_input": "2024-02-18T17:03:05.971797Z",
     "iopub.status.busy": "2024-02-18T17:03:05.970993Z",
     "iopub.status.idle": "2024-02-18T17:03:05.980303Z",
     "shell.execute_reply": "2024-02-18T17:03:05.979341Z"
    },
    "papermill": {
     "duration": 0.03376,
     "end_time": "2024-02-18T17:03:05.982538",
     "exception": false,
     "start_time": "2024-02-18T17:03:05.948778",
     "status": "completed"
    },
    "tags": []
   },
   "outputs": [],
   "source": [
    "def test_pass(model, dataloader, loss_fn, accuracy, softmax, device):\n",
    "    \n",
    "    total_loss = 0\n",
    "    total_acc = 0\n",
    "    \n",
    "    model.eval()\n",
    "    with torch.inference_mode():\n",
    "        for X, y in dataloader:\n",
    "            \n",
    "            X, y = X.to(device), y.to(device)\n",
    "            \n",
    "            # 1. Forward pass\n",
    "            y_logits = model(X)\n",
    "            y_preds = torch.argmax(softmax(y_logits), dim=1).to(torch.int64)\n",
    "        \n",
    "            # 2. Metrics\n",
    "            total_loss += loss_fn(y_logits, y)\n",
    "            total_acc += accuracy(y_preds, y)\n",
    "            \n",
    "        test_loss = total_loss / len(dataloader)\n",
    "        test_acc = total_acc / len(dataloader)\n",
    "        \n",
    "    return test_loss, test_acc"
   ]
  },
  {
   "cell_type": "code",
   "execution_count": 32,
   "id": "14d90b3c",
   "metadata": {
    "execution": {
     "iopub.execute_input": "2024-02-18T17:03:06.023320Z",
     "iopub.status.busy": "2024-02-18T17:03:06.023010Z",
     "iopub.status.idle": "2024-02-18T17:05:01.746206Z",
     "shell.execute_reply": "2024-02-18T17:05:01.745226Z"
    },
    "papermill": {
     "duration": 115.74612,
     "end_time": "2024-02-18T17:05:01.748497",
     "exception": false,
     "start_time": "2024-02-18T17:03:06.002377",
     "status": "completed"
    },
    "tags": []
   },
   "outputs": [
    {
     "name": "stdout",
     "output_type": "stream",
     "text": [
      "Epoch: 1 | Train loss: 0.6479 | Train accuracy: 77.7584% | Validation loss: 0.1595 | Validation accuracy: 95.1362%\n",
      "Epoch: 2 | Train loss: 0.1284 | Train accuracy: 95.9910% | Validation loss: 0.0987 | Validation accuracy: 96.8993%\n",
      "Epoch: 3 | Train loss: 0.1002 | Train accuracy: 96.8129% | Validation loss: 0.0797 | Validation accuracy: 97.6289%\n",
      "Epoch: 4 | Train loss: 0.0819 | Train accuracy: 97.3924% | Validation loss: 0.0913 | Validation accuracy: 96.9561%\n",
      "Epoch: 5 | Train loss: 0.0717 | Train accuracy: 97.6230% | Validation loss: 0.0790 | Validation accuracy: 97.3614%\n",
      "Epoch: 6 | Train loss: 0.0651 | Train accuracy: 97.9837% | Validation loss: 0.0716 | Validation accuracy: 97.7991%\n",
      "Epoch: 7 | Train loss: 0.0588 | Train accuracy: 98.1280% | Validation loss: 0.0902 | Validation accuracy: 97.0655%\n",
      "Epoch: 8 | Train loss: 0.0548 | Train accuracy: 98.2320% | Validation loss: 0.0611 | Validation accuracy: 98.2004%\n",
      "Epoch: 9 | Train loss: 0.0510 | Train accuracy: 98.3355% | Validation loss: 0.0741 | Validation accuracy: 97.7626%\n",
      "Epoch: 10 | Train loss: 0.0470 | Train accuracy: 98.4449% | Validation loss: 0.0612 | Validation accuracy: 98.1882%\n",
      "Epoch: 11 | Train loss: 0.0458 | Train accuracy: 98.5218% | Validation loss: 0.0590 | Validation accuracy: 98.1396%\n",
      "Epoch: 12 | Train loss: 0.0418 | Train accuracy: 98.5838% | Validation loss: 0.0559 | Validation accuracy: 98.2855%\n",
      "Epoch: 13 | Train loss: 0.0398 | Train accuracy: 98.7287% | Validation loss: 0.0627 | Validation accuracy: 98.1639%\n",
      "Epoch: 14 | Train loss: 0.0377 | Train accuracy: 98.7465% | Validation loss: 0.0679 | Validation accuracy: 97.9775%\n",
      "Epoch: 15 | Train loss: 0.0357 | Train accuracy: 98.8085% | Validation loss: 0.0548 | Validation accuracy: 98.3706%\n",
      "Epoch: 16 | Train loss: 0.0333 | Train accuracy: 98.9711% | Validation loss: 0.0546 | Validation accuracy: 98.3585%\n",
      "Epoch: 17 | Train loss: 0.0312 | Train accuracy: 98.9445% | Validation loss: 0.0571 | Validation accuracy: 98.1761%\n",
      "Epoch: 18 | Train loss: 0.0306 | Train accuracy: 99.0332% | Validation loss: 0.0537 | Validation accuracy: 98.4193%\n",
      "Epoch: 19 | Train loss: 0.0304 | Train accuracy: 99.0066% | Validation loss: 0.0801 | Validation accuracy: 97.9937%\n",
      "Epoch: 20 | Train loss: 0.0285 | Train accuracy: 99.1397% | Validation loss: 0.0707 | Validation accuracy: 98.0423%\n"
     ]
    }
   ],
   "source": [
    "epochs = 20\n",
    "\n",
    "for epoch in range(epochs):\n",
    "    train_loss, train_acc = train_pass(model, train_loader, loss_fn, accuracy, softmax, device)\n",
    "    val_loss, val_acc = test_pass(model, val_loader, loss_fn, accuracy, softmax, device)\n",
    "    \n",
    "    print(f\"Epoch: {epoch+1} | Train loss: {train_loss:.4f} | Train accuracy: {train_acc*100:.4f}% | Validation loss: {val_loss:.4f} | Validation accuracy: {val_acc*100:.4f}%\")"
   ]
  },
  {
   "cell_type": "markdown",
   "id": "246e21f4",
   "metadata": {
    "papermill": {
     "duration": 0.019403,
     "end_time": "2024-02-18T17:05:01.788032",
     "exception": false,
     "start_time": "2024-02-18T17:05:01.768629",
     "status": "completed"
    },
    "tags": []
   },
   "source": [
    "## 5. Make predictions with test data"
   ]
  },
  {
   "cell_type": "code",
   "execution_count": 33,
   "id": "592b1693",
   "metadata": {
    "execution": {
     "iopub.execute_input": "2024-02-18T17:05:01.828342Z",
     "iopub.status.busy": "2024-02-18T17:05:01.827650Z",
     "iopub.status.idle": "2024-02-18T17:05:01.844968Z",
     "shell.execute_reply": "2024-02-18T17:05:01.844122Z"
    },
    "papermill": {
     "duration": 0.039549,
     "end_time": "2024-02-18T17:05:01.846893",
     "exception": false,
     "start_time": "2024-02-18T17:05:01.807344",
     "status": "completed"
    },
    "tags": []
   },
   "outputs": [
    {
     "data": {
      "text/html": [
       "<div>\n",
       "<style scoped>\n",
       "    .dataframe tbody tr th:only-of-type {\n",
       "        vertical-align: middle;\n",
       "    }\n",
       "\n",
       "    .dataframe tbody tr th {\n",
       "        vertical-align: top;\n",
       "    }\n",
       "\n",
       "    .dataframe thead th {\n",
       "        text-align: right;\n",
       "    }\n",
       "</style>\n",
       "<table border=\"1\" class=\"dataframe\">\n",
       "  <thead>\n",
       "    <tr style=\"text-align: right;\">\n",
       "      <th></th>\n",
       "      <th>pixel0</th>\n",
       "      <th>pixel1</th>\n",
       "      <th>pixel2</th>\n",
       "      <th>pixel3</th>\n",
       "      <th>pixel4</th>\n",
       "      <th>pixel5</th>\n",
       "      <th>pixel6</th>\n",
       "      <th>pixel7</th>\n",
       "      <th>pixel8</th>\n",
       "      <th>pixel9</th>\n",
       "      <th>...</th>\n",
       "      <th>pixel774</th>\n",
       "      <th>pixel775</th>\n",
       "      <th>pixel776</th>\n",
       "      <th>pixel777</th>\n",
       "      <th>pixel778</th>\n",
       "      <th>pixel779</th>\n",
       "      <th>pixel780</th>\n",
       "      <th>pixel781</th>\n",
       "      <th>pixel782</th>\n",
       "      <th>pixel783</th>\n",
       "    </tr>\n",
       "  </thead>\n",
       "  <tbody>\n",
       "    <tr>\n",
       "      <th>0</th>\n",
       "      <td>0</td>\n",
       "      <td>0</td>\n",
       "      <td>0</td>\n",
       "      <td>0</td>\n",
       "      <td>0</td>\n",
       "      <td>0</td>\n",
       "      <td>0</td>\n",
       "      <td>0</td>\n",
       "      <td>0</td>\n",
       "      <td>0</td>\n",
       "      <td>...</td>\n",
       "      <td>0</td>\n",
       "      <td>0</td>\n",
       "      <td>0</td>\n",
       "      <td>0</td>\n",
       "      <td>0</td>\n",
       "      <td>0</td>\n",
       "      <td>0</td>\n",
       "      <td>0</td>\n",
       "      <td>0</td>\n",
       "      <td>0</td>\n",
       "    </tr>\n",
       "    <tr>\n",
       "      <th>1</th>\n",
       "      <td>0</td>\n",
       "      <td>0</td>\n",
       "      <td>0</td>\n",
       "      <td>0</td>\n",
       "      <td>0</td>\n",
       "      <td>0</td>\n",
       "      <td>0</td>\n",
       "      <td>0</td>\n",
       "      <td>0</td>\n",
       "      <td>0</td>\n",
       "      <td>...</td>\n",
       "      <td>0</td>\n",
       "      <td>0</td>\n",
       "      <td>0</td>\n",
       "      <td>0</td>\n",
       "      <td>0</td>\n",
       "      <td>0</td>\n",
       "      <td>0</td>\n",
       "      <td>0</td>\n",
       "      <td>0</td>\n",
       "      <td>0</td>\n",
       "    </tr>\n",
       "    <tr>\n",
       "      <th>2</th>\n",
       "      <td>0</td>\n",
       "      <td>0</td>\n",
       "      <td>0</td>\n",
       "      <td>0</td>\n",
       "      <td>0</td>\n",
       "      <td>0</td>\n",
       "      <td>0</td>\n",
       "      <td>0</td>\n",
       "      <td>0</td>\n",
       "      <td>0</td>\n",
       "      <td>...</td>\n",
       "      <td>0</td>\n",
       "      <td>0</td>\n",
       "      <td>0</td>\n",
       "      <td>0</td>\n",
       "      <td>0</td>\n",
       "      <td>0</td>\n",
       "      <td>0</td>\n",
       "      <td>0</td>\n",
       "      <td>0</td>\n",
       "      <td>0</td>\n",
       "    </tr>\n",
       "    <tr>\n",
       "      <th>3</th>\n",
       "      <td>0</td>\n",
       "      <td>0</td>\n",
       "      <td>0</td>\n",
       "      <td>0</td>\n",
       "      <td>0</td>\n",
       "      <td>0</td>\n",
       "      <td>0</td>\n",
       "      <td>0</td>\n",
       "      <td>0</td>\n",
       "      <td>0</td>\n",
       "      <td>...</td>\n",
       "      <td>0</td>\n",
       "      <td>0</td>\n",
       "      <td>0</td>\n",
       "      <td>0</td>\n",
       "      <td>0</td>\n",
       "      <td>0</td>\n",
       "      <td>0</td>\n",
       "      <td>0</td>\n",
       "      <td>0</td>\n",
       "      <td>0</td>\n",
       "    </tr>\n",
       "    <tr>\n",
       "      <th>4</th>\n",
       "      <td>0</td>\n",
       "      <td>0</td>\n",
       "      <td>0</td>\n",
       "      <td>0</td>\n",
       "      <td>0</td>\n",
       "      <td>0</td>\n",
       "      <td>0</td>\n",
       "      <td>0</td>\n",
       "      <td>0</td>\n",
       "      <td>0</td>\n",
       "      <td>...</td>\n",
       "      <td>0</td>\n",
       "      <td>0</td>\n",
       "      <td>0</td>\n",
       "      <td>0</td>\n",
       "      <td>0</td>\n",
       "      <td>0</td>\n",
       "      <td>0</td>\n",
       "      <td>0</td>\n",
       "      <td>0</td>\n",
       "      <td>0</td>\n",
       "    </tr>\n",
       "  </tbody>\n",
       "</table>\n",
       "<p>5 rows × 784 columns</p>\n",
       "</div>"
      ],
      "text/plain": [
       "   pixel0  pixel1  pixel2  pixel3  pixel4  pixel5  pixel6  pixel7  pixel8  \\\n",
       "0       0       0       0       0       0       0       0       0       0   \n",
       "1       0       0       0       0       0       0       0       0       0   \n",
       "2       0       0       0       0       0       0       0       0       0   \n",
       "3       0       0       0       0       0       0       0       0       0   \n",
       "4       0       0       0       0       0       0       0       0       0   \n",
       "\n",
       "   pixel9  ...  pixel774  pixel775  pixel776  pixel777  pixel778  pixel779  \\\n",
       "0       0  ...         0         0         0         0         0         0   \n",
       "1       0  ...         0         0         0         0         0         0   \n",
       "2       0  ...         0         0         0         0         0         0   \n",
       "3       0  ...         0         0         0         0         0         0   \n",
       "4       0  ...         0         0         0         0         0         0   \n",
       "\n",
       "   pixel780  pixel781  pixel782  pixel783  \n",
       "0         0         0         0         0  \n",
       "1         0         0         0         0  \n",
       "2         0         0         0         0  \n",
       "3         0         0         0         0  \n",
       "4         0         0         0         0  \n",
       "\n",
       "[5 rows x 784 columns]"
      ]
     },
     "execution_count": 33,
     "metadata": {},
     "output_type": "execute_result"
    }
   ],
   "source": [
    "test_data.head()"
   ]
  },
  {
   "cell_type": "code",
   "execution_count": 34,
   "id": "a14c5c41",
   "metadata": {
    "execution": {
     "iopub.execute_input": "2024-02-18T17:05:01.888929Z",
     "iopub.status.busy": "2024-02-18T17:05:01.888227Z",
     "iopub.status.idle": "2024-02-18T17:05:01.894231Z",
     "shell.execute_reply": "2024-02-18T17:05:01.893311Z"
    },
    "papermill": {
     "duration": 0.029289,
     "end_time": "2024-02-18T17:05:01.896332",
     "exception": false,
     "start_time": "2024-02-18T17:05:01.867043",
     "status": "completed"
    },
    "tags": []
   },
   "outputs": [
    {
     "data": {
      "text/plain": [
       "(875, 28000)"
      ]
     },
     "execution_count": 34,
     "metadata": {},
     "output_type": "execute_result"
    }
   ],
   "source": [
    "len(test_loader), len(test_data)"
   ]
  },
  {
   "cell_type": "code",
   "execution_count": 35,
   "id": "28339cae",
   "metadata": {
    "execution": {
     "iopub.execute_input": "2024-02-18T17:05:01.938736Z",
     "iopub.status.busy": "2024-02-18T17:05:01.938460Z",
     "iopub.status.idle": "2024-02-18T17:05:01.945939Z",
     "shell.execute_reply": "2024-02-18T17:05:01.945163Z"
    },
    "papermill": {
     "duration": 0.03057,
     "end_time": "2024-02-18T17:05:01.947794",
     "exception": false,
     "start_time": "2024-02-18T17:05:01.917224",
     "status": "completed"
    },
    "tags": []
   },
   "outputs": [
    {
     "data": {
      "text/plain": [
       "torch.Size([32, 1, 28, 28])"
      ]
     },
     "execution_count": 35,
     "metadata": {},
     "output_type": "execute_result"
    }
   ],
   "source": [
    "next(iter(test_loader)).shape"
   ]
  },
  {
   "cell_type": "code",
   "execution_count": 36,
   "id": "b83aeab9",
   "metadata": {
    "execution": {
     "iopub.execute_input": "2024-02-18T17:05:01.989119Z",
     "iopub.status.busy": "2024-02-18T17:05:01.988576Z",
     "iopub.status.idle": "2024-02-18T17:05:01.998367Z",
     "shell.execute_reply": "2024-02-18T17:05:01.997539Z"
    },
    "papermill": {
     "duration": 0.032401,
     "end_time": "2024-02-18T17:05:02.000257",
     "exception": false,
     "start_time": "2024-02-18T17:05:01.967856",
     "status": "completed"
    },
    "tags": []
   },
   "outputs": [
    {
     "data": {
      "text/plain": [
       "tensor([-0.2858], device='cuda:0')"
      ]
     },
     "execution_count": 36,
     "metadata": {},
     "output_type": "execute_result"
    }
   ],
   "source": [
    "predict = torch.empty((0,), dtype=torch.int64).to(device)\n",
    "torch.cat((predict, torch.randn((1,)).to(device)), dim=0)"
   ]
  },
  {
   "cell_type": "code",
   "execution_count": 37,
   "id": "a384a54b",
   "metadata": {
    "execution": {
     "iopub.execute_input": "2024-02-18T17:05:02.043276Z",
     "iopub.status.busy": "2024-02-18T17:05:02.043032Z",
     "iopub.status.idle": "2024-02-18T17:05:03.592064Z",
     "shell.execute_reply": "2024-02-18T17:05:03.591242Z"
    },
    "papermill": {
     "duration": 1.572384,
     "end_time": "2024-02-18T17:05:03.594371",
     "exception": false,
     "start_time": "2024-02-18T17:05:02.021987",
     "status": "completed"
    },
    "tags": []
   },
   "outputs": [],
   "source": [
    "model.eval()\n",
    "with torch.inference_mode():\n",
    "    \n",
    "    predict = torch.empty((0,), dtype=torch.int64).to(device)\n",
    "    \n",
    "    for X in test_loader:\n",
    "        \n",
    "        X = X.to(device)\n",
    "    \n",
    "        # 1. Forward pass\n",
    "        y_logits = model(X)\n",
    "        y_preds = torch.argmax(softmax(y_logits), dim=1)\n",
    "        \n",
    "        predict = torch.cat((predict, y_preds), dim=0)"
   ]
  },
  {
   "cell_type": "code",
   "execution_count": 38,
   "id": "927239f8",
   "metadata": {
    "execution": {
     "iopub.execute_input": "2024-02-18T17:05:03.636932Z",
     "iopub.status.busy": "2024-02-18T17:05:03.636613Z",
     "iopub.status.idle": "2024-02-18T17:05:03.648263Z",
     "shell.execute_reply": "2024-02-18T17:05:03.647390Z"
    },
    "papermill": {
     "duration": 0.034764,
     "end_time": "2024-02-18T17:05:03.650150",
     "exception": false,
     "start_time": "2024-02-18T17:05:03.615386",
     "status": "completed"
    },
    "tags": []
   },
   "outputs": [
    {
     "data": {
      "text/html": [
       "<div>\n",
       "<style scoped>\n",
       "    .dataframe tbody tr th:only-of-type {\n",
       "        vertical-align: middle;\n",
       "    }\n",
       "\n",
       "    .dataframe tbody tr th {\n",
       "        vertical-align: top;\n",
       "    }\n",
       "\n",
       "    .dataframe thead th {\n",
       "        text-align: right;\n",
       "    }\n",
       "</style>\n",
       "<table border=\"1\" class=\"dataframe\">\n",
       "  <thead>\n",
       "    <tr style=\"text-align: right;\">\n",
       "      <th></th>\n",
       "      <th>ImageId</th>\n",
       "      <th>Label</th>\n",
       "    </tr>\n",
       "  </thead>\n",
       "  <tbody>\n",
       "    <tr>\n",
       "      <th>0</th>\n",
       "      <td>1</td>\n",
       "      <td>2</td>\n",
       "    </tr>\n",
       "    <tr>\n",
       "      <th>1</th>\n",
       "      <td>2</td>\n",
       "      <td>0</td>\n",
       "    </tr>\n",
       "    <tr>\n",
       "      <th>2</th>\n",
       "      <td>3</td>\n",
       "      <td>9</td>\n",
       "    </tr>\n",
       "    <tr>\n",
       "      <th>3</th>\n",
       "      <td>4</td>\n",
       "      <td>9</td>\n",
       "    </tr>\n",
       "    <tr>\n",
       "      <th>4</th>\n",
       "      <td>5</td>\n",
       "      <td>3</td>\n",
       "    </tr>\n",
       "    <tr>\n",
       "      <th>...</th>\n",
       "      <td>...</td>\n",
       "      <td>...</td>\n",
       "    </tr>\n",
       "    <tr>\n",
       "      <th>27995</th>\n",
       "      <td>27996</td>\n",
       "      <td>9</td>\n",
       "    </tr>\n",
       "    <tr>\n",
       "      <th>27996</th>\n",
       "      <td>27997</td>\n",
       "      <td>7</td>\n",
       "    </tr>\n",
       "    <tr>\n",
       "      <th>27997</th>\n",
       "      <td>27998</td>\n",
       "      <td>3</td>\n",
       "    </tr>\n",
       "    <tr>\n",
       "      <th>27998</th>\n",
       "      <td>27999</td>\n",
       "      <td>9</td>\n",
       "    </tr>\n",
       "    <tr>\n",
       "      <th>27999</th>\n",
       "      <td>28000</td>\n",
       "      <td>2</td>\n",
       "    </tr>\n",
       "  </tbody>\n",
       "</table>\n",
       "<p>28000 rows × 2 columns</p>\n",
       "</div>"
      ],
      "text/plain": [
       "       ImageId  Label\n",
       "0            1      2\n",
       "1            2      0\n",
       "2            3      9\n",
       "3            4      9\n",
       "4            5      3\n",
       "...        ...    ...\n",
       "27995    27996      9\n",
       "27996    27997      7\n",
       "27997    27998      3\n",
       "27998    27999      9\n",
       "27999    28000      2\n",
       "\n",
       "[28000 rows x 2 columns]"
      ]
     },
     "execution_count": 38,
     "metadata": {},
     "output_type": "execute_result"
    }
   ],
   "source": [
    "predict_np = predict.cpu().numpy()\n",
    "index = np.arange(1, len(predict_np) + 1, step=1)\n",
    "predict_df = pd.DataFrame(data={'ImageId': index, 'Label': predict_np})\n",
    "predict_df"
   ]
  },
  {
   "cell_type": "code",
   "execution_count": 39,
   "id": "198f43e1",
   "metadata": {
    "execution": {
     "iopub.execute_input": "2024-02-18T17:05:03.695181Z",
     "iopub.status.busy": "2024-02-18T17:05:03.694911Z",
     "iopub.status.idle": "2024-02-18T17:05:03.729694Z",
     "shell.execute_reply": "2024-02-18T17:05:03.728827Z"
    },
    "papermill": {
     "duration": 0.058429,
     "end_time": "2024-02-18T17:05:03.731738",
     "exception": false,
     "start_time": "2024-02-18T17:05:03.673309",
     "status": "completed"
    },
    "tags": []
   },
   "outputs": [],
   "source": [
    "predict_df.to_csv('submission.csv', index=False)"
   ]
  },
  {
   "cell_type": "markdown",
   "id": "3a41cf65",
   "metadata": {
    "papermill": {
     "duration": 0.020532,
     "end_time": "2024-02-18T17:05:03.773123",
     "exception": false,
     "start_time": "2024-02-18T17:05:03.752591",
     "status": "completed"
    },
    "tags": []
   },
   "source": [
    "### 5.1. Show predictions"
   ]
  },
  {
   "cell_type": "code",
   "execution_count": 40,
   "id": "ff729a1b",
   "metadata": {
    "execution": {
     "iopub.execute_input": "2024-02-18T17:05:03.817960Z",
     "iopub.status.busy": "2024-02-18T17:05:03.817211Z",
     "iopub.status.idle": "2024-02-18T17:05:04.413718Z",
     "shell.execute_reply": "2024-02-18T17:05:04.412838Z"
    },
    "papermill": {
     "duration": 0.62171,
     "end_time": "2024-02-18T17:05:04.415796",
     "exception": false,
     "start_time": "2024-02-18T17:05:03.794086",
     "status": "completed"
    },
    "tags": []
   },
   "outputs": [
    {
     "data": {
      "image/png": "[encoded data removed]",
      "text/plain": [
       "<Figure size 1000x700 with 9 Axes>"
      ]
     },
     "metadata": {},
     "output_type": "display_data"
    }
   ],
   "source": [
    "# torch.manual_seed(42)\n",
    "\n",
    "plt.figure(figsize=(10,7))\n",
    "random_idx = torch.randint(0, len(predict_df), (9,))\n",
    "# random_idx = torch.arange(0, 9, step=1, dtype=torch.int64)\n",
    "n_rows, n_columns = 3, 3\n",
    "idx = 1\n",
    "\n",
    "for i in random_idx:\n",
    "    img = test_data_object[i]\n",
    "    label = predict_np[i]\n",
    "    \n",
    "    plt.subplot(n_rows, n_columns, idx)\n",
    "    plt.imshow(img.permute(1,2,0), cmap='gray')\n",
    "    plt.axis(False)\n",
    "    plt.title(label)\n",
    "    \n",
    "    idx += 1"
   ]
  },
  {
   "cell_type": "code",
   "execution_count": null,
   "id": "06a88586",
   "metadata": {
    "papermill": {
     "duration": 0.020834,
     "end_time": "2024-02-18T17:05:04.458137",
     "exception": false,
     "start_time": "2024-02-18T17:05:04.437303",
     "status": "completed"
    },
    "tags": []
   },
   "outputs": [],
   "source": []
  }
 ],
 "metadata": {
  "kaggle": {
   "accelerator": "nvidiaTeslaT4",
   "dataSources": [
    {
     "databundleVersionId": 861823,
     "sourceId": 3004,
     "sourceType": "competition"
    }
   ],
   "dockerImageVersionId": 30646,
   "isGpuEnabled": true,
   "isInternetEnabled": true,
   "language": "python",
   "sourceType": "notebook"
  },
  "kernelspec": {
   "display_name": "Python 3",
   "language": "python",
   "name": "python3"
  },
  "language_info": {
   "codemirror_mode": {
    "name": "ipython",
    "version": 3
   },
   "file_extension": ".py",
   "mimetype": "text/x-python",
   "name": "python",
   "nbconvert_exporter": "python",
   "pygments_lexer": "ipython3",
   "version": "3.10.13"
  },
  "papermill": {
   "default_parameters": {},
   "duration": 173.41767,
   "end_time": "2024-02-18T17:05:07.224929",
   "environment_variables": {},
   "exception": null,
   "input_path": "__notebook__.ipynb",
   "output_path": "__notebook__.ipynb",
   "parameters": {},
   "start_time": "2024-02-18T17:02:13.807259",
   "version": "2.5.0"
  }
 },
 "nbformat": 4,
 "nbformat_minor": 5
}
