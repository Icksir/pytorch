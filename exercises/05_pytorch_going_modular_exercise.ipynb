{
  "nbformat": 4,
  "nbformat_minor": 0,
  "metadata": {
    "colab": {
      "provenance": []
    },
    "kernelspec": {
      "name": "python3",
      "display_name": "Python 3"
    },
    "language_info": {
      "name": "python"
    },
    "accelerator": "GPU"
  },
  "cells": [
    {
      "cell_type": "markdown",
      "source": [
        "# 05. PyTorch Going Modular Exercises\n",
        "\n",
        "Welcome to the 05. PyTorch Going Modular exercise template notebook.\n",
        "\n",
        "There are several questions in this notebook and it's your goal to answer them by writing Python and PyTorch code.\n",
        "\n",
        "> **Note:** There may be more than one solution to each of the exercises, don't worry too much about the *exact* right answer. Try to write some code that works first and then improve it if you can.\n",
        "\n",
        "## Resources and solutions\n",
        "\n",
        "* These exercises/solutions are based on [section 05. PyTorch Going Modular](https://www.learnpytorch.io/05_pytorch_going_modular/) of the Learn PyTorch for Deep Learning course by Zero to Mastery.\n",
        "\n",
        "**Solutions:**\n",
        "\n",
        "Try to complete the code below *before* looking at these.\n",
        "\n",
        "* See a live [walkthrough of the solutions (errors and all) on YouTube](https://youtu.be/ijgFhMK3pp4).\n",
        "* See an example [solutions notebook for these exercises on GitHub](https://github.com/mrdbourke/pytorch-deep-learning/blob/main/extras/solutions/05_pytorch_going_modular_exercise_solutions.ipynb)."
      ],
      "metadata": {
        "id": "zNqPNlYylluR"
      }
    },
    {
      "cell_type": "markdown",
      "source": [
        "## 1. Turn the code to get the data (from section 1. Get Data) into a Python script, such as `get_data.py`.\n",
        "\n",
        "* When you run the script using `python get_data.py` it should check if the data already exists and skip downloading if it does.\n",
        "* If the data download is successful, you should be able to access the `pizza_steak_sushi` images from the `data` directory."
      ],
      "metadata": {
        "id": "bicbWSrPmfTU"
      }
    },
    {
      "cell_type": "code",
      "source": [
        "%%writefile going_modular/get_data.py\n",
        "# YOUR CODE HERE\n",
        "import os\n",
        "import urllib.request\n",
        "import zipfile\n",
        "\n",
        "project_folder = 'going_modular'\n",
        "data_folder = os.path.join(project_folder, 'data')\n",
        "\n",
        "if not os.path.isdir(project_folder):\n",
        "  os.mkdir(project_folder)\n",
        "\n",
        "if not os.path.isdir(data_folder):\n",
        "  os.mkdir(data_folder)\n",
        "\n",
        "zip_url = \"https://github.com/mrdbourke/pytorch-deep-learning/raw/main/data/pizza_steak_sushi.zip\"\n",
        "zip_name = os.path.basename(os.path.normpath(os.path.join(data_folder, zip_url)))\n",
        "\n",
        "if not os.path.isfile(zip_name):\n",
        "  urllib.request.urlretrieve(zip_url, \"pizza_steak_sushi.zip\")\n",
        "  print(f\"Descargando archivo {zip_name}\")\n",
        "else:\n",
        "  print(f\"{zip_name} ya se encuentra descargado\")\n",
        "\n",
        "with zipfile.ZipFile(zip_name, 'r') as zip_ref:\n",
        "    zip_ref.extractall(data_folder)\n",
        "\n",
        "os.remove(zip_name)\n",
        "print(f\"{zip_name} fue descomprimido en {data_folder}\")"
      ],
      "metadata": {
        "id": "r0BCn1XIYZ8c",
        "colab": {
          "base_uri": "https://localhost:8080/"
        },
        "outputId": "17af50f3-d273-4405-ba3f-96791af45ea8"
      },
      "execution_count": 4,
      "outputs": [
        {
          "output_type": "stream",
          "name": "stdout",
          "text": [
            "Writing going_modular/get_data.py\n"
          ]
        }
      ]
    },
    {
      "cell_type": "code",
      "source": [
        "# Example running of get_data.py\n",
        "!python going_modular/get_data.py"
      ],
      "metadata": {
        "id": "_LrUOIC-YOP9",
        "colab": {
          "base_uri": "https://localhost:8080/"
        },
        "outputId": "6decc385-1215-488b-e218-e8e4b807a113"
      },
      "execution_count": 5,
      "outputs": [
        {
          "output_type": "stream",
          "name": "stdout",
          "text": [
            "Descargando archivo pizza_steak_sushi.zip\n",
            "pizza_steak_sushi.zip fue descomprimido en going_modular/data\n"
          ]
        }
      ]
    },
    {
      "cell_type": "markdown",
      "source": [
        "## 2. Use [Python's `argparse` module](https://docs.python.org/3/library/argparse.html) to be able to send the `train.py` custom hyperparameter values for training procedures.\n",
        "* Add an argument flag for using a different:\n",
        "  * Training/testing directory\n",
        "  * Learning rate\n",
        "  * Batch size\n",
        "  * Number of epochs to train for\n",
        "  * Number of hidden units in the TinyVGG model\n",
        "    * Keep the default values for each of the above arguments as what they already are (as in notebook 05).\n",
        "* For example, you should be able to run something similar to the following line to train a TinyVGG model with a learning rate of 0.003 and a batch size of 64 for 20 epochs: `python train.py --learning_rate 0.003 batch_size 64 num_epochs 20`.\n",
        "* **Note:** Since `train.py` leverages the other scripts we created in section 05, such as, `model_builder.py`, `utils.py` and `engine.py`, you'll have to make sure they're available to use too. You can find these in the [`going_modular` folder on the course GitHub](https://github.com/mrdbourke/pytorch-deep-learning/tree/main/going_modular/going_modular)."
      ],
      "metadata": {
        "id": "zjyn7LU3mvkR"
      }
    },
    {
      "cell_type": "code",
      "source": [
        "import shutil\n",
        "\n",
        "scripts_to_download = [\"https://raw.githubusercontent.com/mrdbourke/pytorch-deep-learning/main/going_modular/going_modular/model_builder.py\",\n",
        "                       \"https://raw.githubusercontent.com/mrdbourke/pytorch-deep-learning/main/going_modular/going_modular/utils.py\",\n",
        "                       \"https://raw.githubusercontent.com/mrdbourke/pytorch-deep-learning/main/going_modular/going_modular/engine.py\",\n",
        "                       \"https://raw.githubusercontent.com/mrdbourke/pytorch-deep-learning/main/going_modular/going_modular/data_setup.py\"]\n",
        "\n",
        "for i in scripts_to_download:\n",
        "  project_folder = 'going_modular'\n",
        "  file_name = os.path.basename(os.path.normpath(i))\n",
        "\n",
        "  if not os.path.isfile(os.path.join(project_folder, file_name)):\n",
        "    urllib.request.urlretrieve(i, file_name)\n",
        "    shutil.move(file_name, os.path.join(project_folder, file_name))\n",
        "    print(f\"Descargando archivo: {file_name} en {project_folder}\")\n",
        "  else:\n",
        "    print(f\"{file_name} ya se encuentra descargado\")"
      ],
      "metadata": {
        "colab": {
          "base_uri": "https://localhost:8080/"
        },
        "id": "5-uDW8zQNicO",
        "outputId": "4485276d-8dbf-43d1-ca25-466a4d6d36c9"
      },
      "execution_count": 6,
      "outputs": [
        {
          "output_type": "stream",
          "name": "stdout",
          "text": [
            "Descargando archivo: model_builder.py en going_modular\n",
            "Descargando archivo: utils.py en going_modular\n",
            "Descargando archivo: engine.py en going_modular\n",
            "Descargando archivo: data_setup.py en going_modular\n"
          ]
        }
      ]
    },
    {
      "cell_type": "code",
      "source": [
        "%%writefile going_modular/train.py\n",
        "# YOUR CODE HERE\n",
        "import engine, model_builder, data_setup\n",
        "import argparse\n",
        "import torch\n",
        "from torchvision.transforms import v2\n",
        "import torch.nn\n",
        "\n",
        "device = 'cuda' if torch.cuda.is_available() else 'cpu'\n",
        "\n",
        "parser = argparse.ArgumentParser()\n",
        "parser.add_argument(\"--num_epochs\", help=\"Number of epochs\")\n",
        "parser.add_argument(\"--batch_size\", help=\"Batch size\")\n",
        "parser.add_argument(\"--hidden_units\", help=\"Number of hidden units\")\n",
        "parser.add_argument(\"--learning_rate\", help=\"Learning rate for Adam\")\n",
        "\n",
        "args = parser.parse_args()\n",
        "\n",
        "transforms = v2.Compose([\n",
        "    v2.ToImage(),\n",
        "    v2.ToDtype(torch.uint8, scale=True),\n",
        "    v2.RandomResizedCrop(size=(64, 64), antialias=True),\n",
        "    v2.ToDtype(torch.float32, scale=True),\n",
        "    v2.Normalize(mean=[0.485, 0.456, 0.406], std=[0.229, 0.224, 0.225]),\n",
        "])\n",
        "\n",
        "train_dataloader, test_dataloader, class_names = data_setup.create_dataloaders(train_dir='going_modular/data/train',\n",
        "                                                                  test_dir='going_modular/data/test',\n",
        "                                                                  transform=transforms,\n",
        "                                                                  batch_size=int(args.batch_size))\n",
        "\n",
        "model = model_builder.TinyVGG(3, int(args.hidden_units), len(class_names)).to(device)\n",
        "\n",
        "optimizer = torch.optim.Adam(model.parameters(), lr=float(args.learning_rate))\n",
        "loss_fn = torch.nn.CrossEntropyLoss()\n",
        "\n",
        "results = engine.train(model=model,\n",
        "                       train_dataloader=train_dataloader,\n",
        "                       test_dataloader=test_dataloader,\n",
        "                       optimizer=optimizer,\n",
        "                       loss_fn=loss_fn,\n",
        "                       epochs=int(args.num_epochs),\n",
        "                       device=device)"
      ],
      "metadata": {
        "id": "MKNDUp45YaW-",
        "colab": {
          "base_uri": "https://localhost:8080/"
        },
        "outputId": "fae2d8c3-3889-42e4-d869-7dd49bec4305"
      },
      "execution_count": 7,
      "outputs": [
        {
          "output_type": "stream",
          "name": "stdout",
          "text": [
            "Writing going_modular/train.py\n"
          ]
        }
      ]
    },
    {
      "cell_type": "code",
      "source": [
        "# Example running of train.py\n",
        "!python going_modular/train.py --num_epochs 5 --batch_size 128 --hidden_units 128 --learning_rate 0.0003"
      ],
      "metadata": {
        "id": "LzaJl39lC40N",
        "colab": {
          "base_uri": "https://localhost:8080/"
        },
        "outputId": "da1ed847-6028-4419-dcd9-ddec2f3a8dc3"
      },
      "execution_count": 8,
      "outputs": [
        {
          "output_type": "stream",
          "name": "stdout",
          "text": [
            "  0% 0/5 [00:00<?, ?it/s]Epoch: 1 | train_loss: 1.1018 | train_acc: 0.2899 | test_loss: 1.0917 | test_acc: 0.3733\n",
            " 20% 1/5 [00:02<00:11,  2.99s/it]Epoch: 2 | train_loss: 1.0407 | train_acc: 0.4546 | test_loss: 1.0721 | test_acc: 0.4000\n",
            " 40% 2/5 [00:04<00:05,  1.87s/it]Epoch: 3 | train_loss: 0.9566 | train_acc: 0.5374 | test_loss: 1.1139 | test_acc: 0.4133\n",
            " 60% 3/5 [00:05<00:02,  1.48s/it]Epoch: 4 | train_loss: 0.9704 | train_acc: 0.4921 | test_loss: 1.0784 | test_acc: 0.4533\n",
            " 80% 4/5 [00:06<00:01,  1.29s/it]Epoch: 5 | train_loss: 1.0013 | train_acc: 0.5763 | test_loss: 0.9501 | test_acc: 0.4667\n",
            "100% 5/5 [00:07<00:00,  1.42s/it]\n"
          ]
        }
      ]
    },
    {
      "cell_type": "markdown",
      "source": [
        "## 3. Create a Python script to predict (such as `predict.py`) on a target image given a file path with a saved model.\n",
        "\n",
        "* For example, you should be able to run the command `python predict.py some_image.jpeg` and have a trained PyTorch model predict on the image and return its prediction.\n",
        "* To see example prediction code, check out the [predicting on a custom image section in notebook 04](https://www.learnpytorch.io/04_pytorch_custom_datasets/#113-putting-custom-image-prediction-together-building-a-function).\n",
        "* You may also have to write code to load in a trained model."
      ],
      "metadata": {
        "id": "P2g6EEYvm-46"
      }
    },
    {
      "cell_type": "code",
      "source": [
        "# YOUR CODE HERE\n",
        "import torch\n",
        "from torchvision.transforms import v2\n",
        "from PIL import Image\n",
        "import torch.nn as nn\n",
        "\n",
        "parser = argparse.ArgumentParser()\n",
        "parser.add_argument(\"--image\", help=\"Image to predict label\")\n",
        "\n",
        "args = parser.parse_args()\n",
        "\n",
        "pil_img = Image.open(args.image)\n",
        "\n",
        "transforms = v2.Compose([\n",
        "    v2.ToImage(),\n",
        "    v2.ToDtype(torch.uint8, scale=True),  # optional, most input are already uint8 at this point\n",
        "    v2.RandomResizedCrop(size=(64, 64), antialias=True),  # Or Resize(antialias=True)\n",
        "    v2.ToDtype(torch.float32, scale=True),  # Normalize expects float input\n",
        "    v2.Normalize(mean=[0.485, 0.456, 0.406], std=[0.229, 0.224, 0.225]),\n",
        "])\n",
        "\n",
        "img_transformed = transforms(pil_img)\n",
        "\n",
        "softmax = nn.Softmax(dim=1)\n",
        "\n",
        "with torch.inference_mode():\n",
        "  y_logits = model(img_transformed)\n",
        "  y_preds = torch.argmax(softmax(y_logits), dim=1)\n",
        "\n",
        "prediction = class_to_idx[y_preds.item()]"
      ],
      "metadata": {
        "id": "HU7W6VZfYawP"
      },
      "execution_count": 9,
      "outputs": []
    },
    {
      "cell_type": "code",
      "source": [
        "# Example running of predict.py\n",
        "!python predict.py --image data/pizza_steak_sushi/test/sushi/175783.jpg"
      ],
      "metadata": {
        "id": "Zcvw9sitIn6r",
        "colab": {
          "base_uri": "https://localhost:8080/"
        },
        "outputId": "1b9dc422-cead-444c-88c1-bb9cdba890dd"
      },
      "execution_count": 10,
      "outputs": [
        {
          "output_type": "stream",
          "name": "stdout",
          "text": [
            "python3: can't open file '/content/predict.py': [Errno 2] No such file or directory\n"
          ]
        }
      ]
    }
  ]
}